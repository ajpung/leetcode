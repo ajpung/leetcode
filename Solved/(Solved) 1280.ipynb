{
 "cells": [
  {
   "cell_type": "code",
   "execution_count": 1,
   "id": "f76028f3-ba5d-4769-899f-bebcde9a9f0c",
   "metadata": {},
   "outputs": [],
   "source": [
    "import numpy as np\n",
    "import pandas as pd\n",
    "\n",
    "stdata = {\"student_id\": [1, 2, 13, 6], \"student_name\": [\"Alice\", \"Bob\", \"John\", \"Alex\"]}\n",
    "sudata = {\"subject_name\": [\"Math\", \"Physics\", \"Programming\"]}\n",
    "exdata = {\n",
    "    \"student_id\": [1, 1, 1, 2, 1, 1, 13, 13, 13, 2, 1],\n",
    "    \"subject_name\": [\n",
    "        \"Math\",\n",
    "        \"Physics\",\n",
    "        \"Programming\",\n",
    "        \"Programming\",\n",
    "        \"Physics\",\n",
    "        \"Math\",\n",
    "        \"Math\",\n",
    "        \"Programming\",\n",
    "        \"Physics\",\n",
    "        \"Math\",\n",
    "        \"Math\",\n",
    "    ],\n",
    "}\n",
    "\n",
    "stdata = {\"student_id\": [1, 2, 13, 6], \"student_name\": [np.nan, \"Bob\", \"John\", \"Alex\"]}\n",
    "sudata = {\"subject_name\": [\"Math\", \"Physics\", \"Programming\"]}\n",
    "exdata = {\n",
    "    \"student_id\": [1, 1, 1, 2, 1, 1, 13, 13, 13, 2, 1],\n",
    "    \"subject_name\": [\n",
    "        \"Math\",\n",
    "        \"Physics\",\n",
    "        \"Programming\",\n",
    "        \"Programming\",\n",
    "        \"Physics\",\n",
    "        \"Math\",\n",
    "        \"Math\",\n",
    "        \"Programming\",\n",
    "        \"Physics\",\n",
    "        \"Math\",\n",
    "        \"Math\",\n",
    "    ],\n",
    "}\n",
    "\n",
    "students = pd.DataFrame(stdata)\n",
    "subjects = pd.DataFrame(sudata)\n",
    "examinations = pd.DataFrame(exdata)"
   ]
  },
  {
   "cell_type": "code",
   "execution_count": 2,
   "id": "43a33e3b-c1e9-4174-9286-96d4d03a5717",
   "metadata": {},
   "outputs": [
    {
     "name": "stdout",
     "output_type": "stream",
     "text": [
      "    student_id student_name subject_name  attended_exams\n",
      "0            1          NaN         Math               3\n",
      "1            1          NaN      Physics               2\n",
      "2            1          NaN  Programming               1\n",
      "3            2          Bob         Math               1\n",
      "4            2          Bob      Physics               0\n",
      "5            2          Bob  Programming               1\n",
      "9            6         Alex         Math               0\n",
      "10           6         Alex      Physics               0\n",
      "11           6         Alex  Programming               0\n",
      "6           13         John         Math               1\n",
      "7           13         John      Physics               1\n",
      "8           13         John  Programming               1\n"
     ]
    }
   ],
   "source": [
    "mergeDF = pd.merge(students, examinations, on=\"student_id\", how=\"outer\")\n",
    "res_student = []\n",
    "res_id = []\n",
    "res_subject = []\n",
    "res_count = []\n",
    "\n",
    "for stid in students[\"student_id\"]:\n",
    "    st_name = students[students[\"student_id\"] == stid].student_name.squeeze()\n",
    "    for su in subjects[\"subject_name\"]:\n",
    "        count = (\n",
    "            (mergeDF[\"student_id\"] == stid) & (mergeDF[\"subject_name\"] == su)\n",
    "        ).sum()\n",
    "        res_student += [st_name]\n",
    "        res_subject += [su]\n",
    "        res_count += [count]\n",
    "        res_id += [stid]\n",
    "\n",
    "outdata = {\n",
    "    \"student_id\": res_id,\n",
    "    \"student_name\": res_student,\n",
    "    \"subject_name\": res_subject,\n",
    "    \"attended_exams\": res_count,\n",
    "}\n",
    "outDF = pd.DataFrame(outdata).sort_values(\n",
    "    by=[\"student_id\", \"subject_name\"], ascending=True\n",
    ")\n",
    "print(outDF)"
   ]
  },
  {
   "cell_type": "code",
   "execution_count": null,
   "id": "4640293f-d7ea-47e5-a0d2-80fe56ab3552",
   "metadata": {},
   "outputs": [],
   "source": []
  }
 ],
 "metadata": {
  "kernelspec": {
   "display_name": "Python 3 (ipykernel)",
   "language": "python",
   "name": "python3"
  },
  "language_info": {
   "codemirror_mode": {
    "name": "ipython",
    "version": 3
   },
   "file_extension": ".py",
   "mimetype": "text/x-python",
   "name": "python",
   "nbconvert_exporter": "python",
   "pygments_lexer": "ipython3",
   "version": "3.10.12"
  }
 },
 "nbformat": 4,
 "nbformat_minor": 5
}
