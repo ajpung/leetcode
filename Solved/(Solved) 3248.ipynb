{
 "cells": [
  {
   "cell_type": "code",
   "execution_count": 30,
   "id": "592a44e5-1b4f-42bf-966e-b1ee8ed72ffe",
   "metadata": {},
   "outputs": [],
   "source": [
    "n = 2\n",
    "commands = [\"RIGHT\", \"DOWN\"]\n",
    "n = 3\n",
    "commands = [\"DOWN\", \"RIGHT\", \"UP\"]\n",
    "n = 2\n",
    "commands = [\"UP\", \"UP\", \"UP\", \"UP\", \"UP\"]\n",
    "n = 3\n",
    "commands = [\n",
    "    \"DOWN\",\n",
    "    \"DOWN\",\n",
    "    \"DOWN\",\n",
    "    \"DOWN\",\n",
    "    \"DOWN\",\n",
    "    \"DOWN\",\n",
    "    \"DOWN\",\n",
    "    \"DOWN\",\n",
    "    \"DOWN\",\n",
    "    \"DOWN\",\n",
    "]\n",
    "n = 3\n",
    "commands = [\n",
    "    \"RIGHT\",\n",
    "    \"RIGHT\",\n",
    "    \"RIGHT\",\n",
    "    \"RIGHT\",\n",
    "    \"DOWN\",\n",
    "    \"DOWN\",\n",
    "    \"DOWN\",\n",
    "    \"DOWN\",\n",
    "    \"DOWN\",\n",
    "    \"DOWN\",\n",
    "]\n",
    "n = 2\n",
    "commands = [\n",
    "    \"RIGHT\",\n",
    "    \"RIGHT\",\n",
    "    \"RIGHT\",\n",
    "    \"RIGHT\",\n",
    "    \"DOWN\",\n",
    "    \"DOWN\",\n",
    "    \"DOWN\",\n",
    "    \"DOWN\",\n",
    "    \"DOWN\",\n",
    "    \"DOWN\",\n",
    "]\n",
    "n = 2\n",
    "commands = [\"RIGHT\", \"DOWN\", \"RIGHT\", \"DOWN\"]\n",
    "n = 3\n",
    "commands = [\"RIGHT\", \"DOWN\", \"RIGHT\", \"DOWN\"]"
   ]
  },
  {
   "cell_type": "code",
   "execution_count": 31,
   "id": "7a17d6b9-3b46-43c3-b0e4-3de83c1240e1",
   "metadata": {},
   "outputs": [
    {
     "name": "stdout",
     "output_type": "stream",
     "text": [
      "[[0 1 2]\n",
      " [3 4 5]\n",
      " [6 7 8]]\n",
      "8\n"
     ]
    }
   ],
   "source": [
    "import numpy as np\n",
    "\n",
    "square = np.arange(0, n**2).reshape(n, n)\n",
    "print(square)\n",
    "start = [0, 0]\n",
    "for c in commands:\n",
    "    if c == \"RIGHT\":\n",
    "        start[1] += 1\n",
    "    elif c == \"DOWN\":\n",
    "        start[0] += 1\n",
    "    elif c == \"UP\":\n",
    "        start[0] -= 1\n",
    "    elif c == \"LEFT\":\n",
    "        start[1] -= 1\n",
    "\n",
    "# Handle box edges\n",
    "if start[0] < 0:\n",
    "    start[0] = 0\n",
    "if start[1] < 0:\n",
    "    start[1] = 0\n",
    "if start[0] > n - 1:\n",
    "    start[0] = n - 1\n",
    "if start[1] > n - 1:\n",
    "    start[1] = n - 1\n",
    "\n",
    "print(square[start[0], start[1]])"
   ]
  },
  {
   "cell_type": "code",
   "execution_count": null,
   "id": "5d88a0a1-7d5e-4569-b9da-7c531babb898",
   "metadata": {},
   "outputs": [],
   "source": []
  }
 ],
 "metadata": {
  "kernelspec": {
   "display_name": "Python 3 (ipykernel)",
   "language": "python",
   "name": "python3"
  },
  "language_info": {
   "codemirror_mode": {
    "name": "ipython",
    "version": 3
   },
   "file_extension": ".py",
   "mimetype": "text/x-python",
   "name": "python",
   "nbconvert_exporter": "python",
   "pygments_lexer": "ipython3",
   "version": "3.10.12"
  }
 },
 "nbformat": 4,
 "nbformat_minor": 5
}
