{
 "cells": [
  {
   "cell_type": "code",
   "execution_count": 1,
   "id": "6a78f175-ab17-48ee-b8e9-cd9e07c2e042",
   "metadata": {},
   "outputs": [],
   "source": [
    "# plants, capacity = [2,2,3,3], 5\n",
    "# plants, capacity = [1,1,1,4,2,3], 4\n",
    "# plants, capacity = [7,7,7,7,7,7,7], 8\n",
    "plants, capacity = [3, 2, 4, 2, 1], 6"
   ]
  },
  {
   "cell_type": "code",
   "execution_count": 2,
   "id": "3a8d7433-8bfd-4463-b6da-f520791e3587",
   "metadata": {},
   "outputs": [
    {
     "name": "stdout",
     "output_type": "stream",
     "text": [
      "can water\n",
      "i: 0  water left: 3  steps: 1 \n",
      "\n",
      "can water\n",
      "i: 1  water left: 1  steps: 2 \n",
      "\n",
      "cannot water\n",
      "i: 2  water left: 2  steps: 7 \n",
      "\n",
      "can water\n",
      "i: 3  water left: 0  steps: 8 \n",
      "\n",
      "cannot water\n",
      "i: 4  water left: 5  steps: 17 \n",
      "\n",
      "17\n"
     ]
    }
   ],
   "source": [
    "import numpy as np\n",
    "\n",
    "# Start with full\n",
    "curcap = capacity\n",
    "cursteps = 0\n",
    "\n",
    "# Iterate through plants\n",
    "for i in np.arange(len(plants)):\n",
    "    # If fillable, fill\n",
    "    if curcap >= plants[i]:\n",
    "        print(\"can water\")\n",
    "        cursteps = cursteps + 1\n",
    "        curcap = curcap - plants[i]\n",
    "    # Otherwise, walk back to river\n",
    "    else:\n",
    "        print(\"cannot water\")\n",
    "        cursteps = cursteps + 2 * i + 1\n",
    "        curcap = capacity - plants[i]\n",
    "    print(\"i:\", i, \" water left:\", curcap, \" steps:\", cursteps, \"\\n\")\n",
    "\n",
    "print(cursteps)"
   ]
  },
  {
   "cell_type": "code",
   "execution_count": null,
   "id": "cd33a71e-80cf-43cf-8763-8b07501e3ccd",
   "metadata": {},
   "outputs": [],
   "source": []
  }
 ],
 "metadata": {
  "kernelspec": {
   "display_name": "Python 3 (ipykernel)",
   "language": "python",
   "name": "python3"
  },
  "language_info": {
   "codemirror_mode": {
    "name": "ipython",
    "version": 3
   },
   "file_extension": ".py",
   "mimetype": "text/x-python",
   "name": "python",
   "nbconvert_exporter": "python",
   "pygments_lexer": "ipython3",
   "version": "3.12.10"
  }
 },
 "nbformat": 4,
 "nbformat_minor": 5
}
