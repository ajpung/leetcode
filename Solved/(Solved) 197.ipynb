{
 "cells": [
  {
   "cell_type": "code",
   "execution_count": 3,
   "id": "4ed7c2a5-18c1-4726-bcbd-dd22866a0bf8",
   "metadata": {},
   "outputs": [],
   "source": [
    "import numpy as np\n",
    "import pandas as pd\n",
    "from datetime import datetime\n",
    "\n",
    "data = {\n",
    "    \"id\": [1, 2, 3, 4],\n",
    "    \"recordDate\": [\"2015-01-01\", \"2015-01-02\", \"2015-01-03\", \"2015-01-04\"],\n",
    "    \"temperature\": [10, 25, 20, 30],\n",
    "}\n",
    "\n",
    "data = {\n",
    "    \"id\": [2, 1, 4, 3],\n",
    "    \"recordDate\": [\"2015-01-02\", \"2015-01-01\", \"2015-01-04\", \"2015-01-03\"],\n",
    "    \"temperature\": [25, 10, 30, 20],\n",
    "}\n",
    "\n",
    "data = {\n",
    "    \"id\": [1, 2, 3, 4],\n",
    "    \"recordDate\": [\"2015-01-01\", \"2015-01-02\", \"2015-01-03\", \"2015-01-04\"],\n",
    "    \"temperature\": [10, 10, np.nan, 30],\n",
    "}\n",
    "\n",
    "data = {\n",
    "    \"id\": [1, 2],\n",
    "    \"recordDate\": [\"2000-12-16\", \"2000-12-15\"],\n",
    "    \"temperature\": [3, -1],\n",
    "}\n",
    "\n",
    "data = {\"id\": [1, 2], \"recordDate\": [\"2000-12-14\", \"2000-12-16\"], \"temperature\": [3, 5]}\n",
    "\n",
    "data = {\n",
    "    \"id\": [1, 2, 3, 4],\n",
    "    \"recordDate\": [\"2015-01-31\", \"2015-02-01\", \"2015-02-03\", \"2015-02-04\"],\n",
    "    \"temperature\": [10, 25, 20, 30],\n",
    "}\n",
    "\n",
    "weather = pd.DataFrame(data)\n",
    "weather[\"recordDate\"] = [\n",
    "    datetime.strptime(x, \"%Y-%m-%d\") for x in weather[\"recordDate\"]\n",
    "]"
   ]
  },
  {
   "cell_type": "code",
   "execution_count": 8,
   "id": "d8c23446-706b-448a-8067-7b747177556a",
   "metadata": {},
   "outputs": [
    {
     "data": {
      "text/html": [
       "<div>\n",
       "<style scoped>\n",
       "    .dataframe tbody tr th:only-of-type {\n",
       "        vertical-align: middle;\n",
       "    }\n",
       "\n",
       "    .dataframe tbody tr th {\n",
       "        vertical-align: top;\n",
       "    }\n",
       "\n",
       "    .dataframe thead th {\n",
       "        text-align: right;\n",
       "    }\n",
       "</style>\n",
       "<table border=\"1\" class=\"dataframe\">\n",
       "  <thead>\n",
       "    <tr style=\"text-align: right;\">\n",
       "      <th></th>\n",
       "      <th>id</th>\n",
       "    </tr>\n",
       "  </thead>\n",
       "  <tbody>\n",
       "    <tr>\n",
       "      <th>0</th>\n",
       "      <td>2</td>\n",
       "    </tr>\n",
       "    <tr>\n",
       "      <th>1</th>\n",
       "      <td>4</td>\n",
       "    </tr>\n",
       "  </tbody>\n",
       "</table>\n",
       "</div>"
      ],
      "text/plain": [
       "   id\n",
       "0   2\n",
       "1   4"
      ]
     },
     "execution_count": 8,
     "metadata": {},
     "output_type": "execute_result"
    }
   ],
   "source": [
    "weather = weather.dropna()\n",
    "weather = weather.sort_values(by=\"recordDate\")\n",
    "\n",
    "id = []\n",
    "for i in range(1, len(weather)):\n",
    "    t0 = weather.iloc[i - 1][\"temperature\"]\n",
    "    d0 = weather.iloc[i - 1][\"recordDate\"]\n",
    "    t1 = weather.iloc[i][\"temperature\"]\n",
    "    d1 = weather.iloc[i][\"recordDate\"]\n",
    "    daydiff = (d1 - d0).days\n",
    "    if (daydiff == 1) and (t1 > t0):\n",
    "        id += [weather.iloc[i][\"id\"]]\n",
    "\n",
    "idata = {\"id\": id}\n",
    "out = pd.DataFrame(idata)\n",
    "out"
   ]
  },
  {
   "cell_type": "code",
   "execution_count": null,
   "id": "b1bb940c-0244-46c7-b442-752c4a5b7e60",
   "metadata": {},
   "outputs": [],
   "source": []
  }
 ],
 "metadata": {
  "kernelspec": {
   "display_name": "Python 3 (ipykernel)",
   "language": "python",
   "name": "python3"
  },
  "language_info": {
   "codemirror_mode": {
    "name": "ipython",
    "version": 3
   },
   "file_extension": ".py",
   "mimetype": "text/x-python",
   "name": "python",
   "nbconvert_exporter": "python",
   "pygments_lexer": "ipython3",
   "version": "3.10.12"
  }
 },
 "nbformat": 4,
 "nbformat_minor": 5
}
