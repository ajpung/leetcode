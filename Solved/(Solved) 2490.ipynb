{
 "cells": [
  {
   "cell_type": "code",
   "execution_count": 1,
   "id": "2c7306de-9458-4da5-8b5b-4ddeed1df62a",
   "metadata": {},
   "outputs": [],
   "source": [
    "sentence = \"leetcode exercises sound delightful\"\n",
    "sentence = \"eetcode\"\n",
    "sentence = \"Leetcode is cool\""
   ]
  },
  {
   "cell_type": "code",
   "execution_count": 2,
   "id": "df531886-0c8a-41c3-a4de-db8712456435",
   "metadata": {},
   "outputs": [
    {
     "name": "stdout",
     "output_type": "stream",
     "text": [
      "False\n"
     ]
    }
   ],
   "source": [
    "words = sentence.split(\" \")\n",
    "\n",
    "istrue = True\n",
    "if words[-1][-1] != words[0][0]:\n",
    "    istrue = False\n",
    "for i in range(len(words) - 1):\n",
    "    sw = words[i]\n",
    "    ew = words[i + 1]\n",
    "    if sw[-1] != ew[0]:\n",
    "        istrue = False\n",
    "\n",
    "print(istrue)"
   ]
  },
  {
   "cell_type": "code",
   "execution_count": null,
   "id": "050f26df-02ab-42d0-828c-cd22b16be61d",
   "metadata": {},
   "outputs": [],
   "source": []
  }
 ],
 "metadata": {
  "kernelspec": {
   "display_name": "Python 3 (ipykernel)",
   "language": "python",
   "name": "python3"
  },
  "language_info": {
   "codemirror_mode": {
    "name": "ipython",
    "version": 3
   },
   "file_extension": ".py",
   "mimetype": "text/x-python",
   "name": "python",
   "nbconvert_exporter": "python",
   "pygments_lexer": "ipython3",
   "version": "3.10.12"
  }
 },
 "nbformat": 4,
 "nbformat_minor": 5
}
