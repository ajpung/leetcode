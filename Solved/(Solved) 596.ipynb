{
 "cells": [
  {
   "cell_type": "code",
   "execution_count": 11,
   "id": "af60247f-b03a-4ba5-826d-fca903583726",
   "metadata": {},
   "outputs": [],
   "source": [
    "import pandas as pd\n",
    "\n",
    "data = {\n",
    "    \"student\": [\"A\", \"B\", \"C\", \"D\", \"E\", \"F\", \"G\", \"H\", \"I\"],\n",
    "    \"class\": [\n",
    "        \"Math\",\n",
    "        \"English\",\n",
    "        \"Math\",\n",
    "        \"Biology\",\n",
    "        \"Math\",\n",
    "        \"Computer\",\n",
    "        \"Math\",\n",
    "        \"Math\",\n",
    "        \"Math\",\n",
    "    ],\n",
    "}\n",
    "\n",
    "data = {\n",
    "    \"student\": [\"A\", \"B\", \"C\", \"D\", \"E\", \"F\", \"A\", \"A\", \"A\"],\n",
    "    \"class\": [\n",
    "        \"Math\",\n",
    "        \"English\",\n",
    "        \"Math\",\n",
    "        \"Biology\",\n",
    "        \"Math\",\n",
    "        \"Computer\",\n",
    "        \"Math\",\n",
    "        \"Math\",\n",
    "        \"Math\",\n",
    "    ],\n",
    "}\n",
    "\n",
    "data = {\n",
    "    \"student\": [\"A\", \"B\", \"D\", \"E\", \"F\"],\n",
    "    \"class\": [\"Math\", \"English\", \"Biology\", \"Math\", \"Computer\"],\n",
    "}\n",
    "\n",
    "data = {\n",
    "    \"student\": [\"A\", \"A\", \"A\", \"A\", \"A\"],\n",
    "    \"class\": [\"Computer\", \"Computer\", \"Computer\", \"Computer\", \"Computer\"],\n",
    "}\n",
    "\n",
    "find_classes = pd.DataFrame(data)"
   ]
  },
  {
   "cell_type": "code",
   "execution_count": 12,
   "id": "f3ae6b98-ec98-4ecb-a9c4-49603b392d0c",
   "metadata": {},
   "outputs": [
    {
     "data": {
      "text/html": [
       "<div>\n",
       "<style scoped>\n",
       "    .dataframe tbody tr th:only-of-type {\n",
       "        vertical-align: middle;\n",
       "    }\n",
       "\n",
       "    .dataframe tbody tr th {\n",
       "        vertical-align: top;\n",
       "    }\n",
       "\n",
       "    .dataframe thead th {\n",
       "        text-align: right;\n",
       "    }\n",
       "</style>\n",
       "<table border=\"1\" class=\"dataframe\">\n",
       "  <thead>\n",
       "    <tr style=\"text-align: right;\">\n",
       "      <th></th>\n",
       "      <th>class</th>\n",
       "    </tr>\n",
       "  </thead>\n",
       "  <tbody>\n",
       "  </tbody>\n",
       "</table>\n",
       "</div>"
      ],
      "text/plain": [
       "Empty DataFrame\n",
       "Columns: [class]\n",
       "Index: []"
      ]
     },
     "execution_count": 12,
     "metadata": {},
     "output_type": "execute_result"
    }
   ],
   "source": [
    "class_count = find_classes.groupby(\"class\").nunique(\"student\").reset_index()\n",
    "class_count[class_count[\"student\"] >= 5].drop(columns=[\"student\"])"
   ]
  },
  {
   "cell_type": "code",
   "execution_count": null,
   "id": "f18492d8-ad4f-4d17-b431-a2814b4f57c0",
   "metadata": {},
   "outputs": [],
   "source": []
  }
 ],
 "metadata": {
  "kernelspec": {
   "display_name": "Python 3 (ipykernel)",
   "language": "python",
   "name": "python3"
  },
  "language_info": {
   "codemirror_mode": {
    "name": "ipython",
    "version": 3
   },
   "file_extension": ".py",
   "mimetype": "text/x-python",
   "name": "python",
   "nbconvert_exporter": "python",
   "pygments_lexer": "ipython3",
   "version": "3.10.12"
  }
 },
 "nbformat": 4,
 "nbformat_minor": 5
}
