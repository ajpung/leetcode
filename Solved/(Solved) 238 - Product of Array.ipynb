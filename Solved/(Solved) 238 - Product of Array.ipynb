{
 "cells": [
  {
   "cell_type": "markdown",
   "id": "9323ad5c-8fed-46c6-bfca-56aad0b3be5c",
   "metadata": {},
   "source": [
    "# 238 - Product of Array Except Itself\n",
    "\n",
    "Link:  https://leetcode.com/problems/product-of-array-except-self/description/?envType=study-plan-v2&envId=top-interview-150\n",
    "\n",
    "Problem:\n",
    "Given an integer array nums, return an array `answer` such that `answer[i]` is equal to the product of all the elements of nums except `nums[i]`.\n",
    "The product of any prefix or suffix of nums is guaranteed to fit in a 32-bit integer.\n",
    "You must write an algorithm that runs in `O(n)` time and without using the division operation.\n",
    "\n",
    "### Test Cases\n",
    "Input: nums = [1,2,3,4], Output: [24,12,8,6]\n",
    "\n",
    "Input: nums = [-1,1,0,-3,3], Output: [0,0,9,0,0]"
   ]
  },
  {
   "cell_type": "code",
   "execution_count": 4,
   "id": "08b06368-cb09-498e-a48d-831dcc7db318",
   "metadata": {},
   "outputs": [],
   "source": [
    "nums = [1, 2, 3, 4]"
   ]
  },
  {
   "cell_type": "code",
   "execution_count": 7,
   "id": "e18fe28a-15c0-49c3-b338-0450b304ce3c",
   "metadata": {},
   "outputs": [
    {
     "name": "stdout",
     "output_type": "stream",
     "text": [
      "[24, 12, 8, 6]\n"
     ]
    }
   ],
   "source": [
    "import numpy as np\n",
    "\n",
    "arr = []\n",
    "for i in np.arange(len(nums)):\n",
    "    arr.append(int(np.prod(np.delete(nums, i))))\n",
    "print(arr)"
   ]
  },
  {
   "cell_type": "code",
   "execution_count": 17,
   "id": "f7330643-50af-4802-8bed-ebca81ded034",
   "metadata": {},
   "outputs": [],
   "source": [
    "# Calculate products of all elements to the left of each element\n",
    "n = len(nums)\n",
    "answer = [1] * n\n",
    "\n",
    "left_product = 1\n",
    "for i in range(n):\n",
    "    answer[i] = left_product\n",
    "    left_product *= nums[i]"
   ]
  },
  {
   "cell_type": "code",
   "execution_count": 11,
   "id": "9301aa33-2fce-4d5e-818b-e5dd59fd315c",
   "metadata": {},
   "outputs": [
    {
     "data": {
      "text/plain": [
       "50000"
      ]
     },
     "execution_count": 11,
     "metadata": {},
     "output_type": "execute_result"
    }
   ],
   "source": [
    "len(aaa)"
   ]
  },
  {
   "cell_type": "code",
   "execution_count": 18,
   "id": "a8ba6696-46fb-4f99-ab1b-303a88dc610a",
   "metadata": {},
   "outputs": [
    {
     "name": "stdout",
     "output_type": "stream",
     "text": [
      "0\n",
      "1\n",
      "2\n",
      "3\n"
     ]
    }
   ],
   "source": [
    "for i in range(n):\n",
    "    print(i)"
   ]
  },
  {
   "cell_type": "code",
   "execution_count": null,
   "id": "f28a3fd7-55b4-4934-94c8-b3ff773a0d2b",
   "metadata": {},
   "outputs": [],
   "source": []
  }
 ],
 "metadata": {
  "kernelspec": {
   "display_name": "Python 3 (ipykernel)",
   "language": "python",
   "name": "python3"
  },
  "language_info": {
   "codemirror_mode": {
    "name": "ipython",
    "version": 3
   },
   "file_extension": ".py",
   "mimetype": "text/x-python",
   "name": "python",
   "nbconvert_exporter": "python",
   "pygments_lexer": "ipython3",
   "version": "3.12.10"
  }
 },
 "nbformat": 4,
 "nbformat_minor": 5
}
