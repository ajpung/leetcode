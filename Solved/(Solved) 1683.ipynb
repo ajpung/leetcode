{
 "cells": [
  {
   "cell_type": "code",
   "execution_count": 1,
   "id": "5e443c6c-6d20-4715-9048-1b6cabec93f0",
   "metadata": {},
   "outputs": [],
   "source": [
    "import pandas as pd\n",
    "\n",
    "data = {\n",
    "    \"tweet_id\": [1, 2],\n",
    "    \"content\": [\"Let us Code\", \"More than fiften chars are here!\"],\n",
    "}\n",
    "\n",
    "data = {\n",
    "    \"tweet_id\": [452, 179, 285],\n",
    "    \"content\": [\"kWgN63Xj2TFhYDtH0\", \"QFAxkwVQvLTdThlmt\", \"TTgk\"],\n",
    "}\n",
    "\n",
    "tweets = pd.DataFrame(data)"
   ]
  },
  {
   "cell_type": "code",
   "execution_count": 2,
   "id": "13813366-9045-4afb-9526-93786ff1549c",
   "metadata": {},
   "outputs": [
    {
     "data": {
      "text/html": [
       "<div>\n",
       "<style scoped>\n",
       "    .dataframe tbody tr th:only-of-type {\n",
       "        vertical-align: middle;\n",
       "    }\n",
       "\n",
       "    .dataframe tbody tr th {\n",
       "        vertical-align: top;\n",
       "    }\n",
       "\n",
       "    .dataframe thead th {\n",
       "        text-align: right;\n",
       "    }\n",
       "</style>\n",
       "<table border=\"1\" class=\"dataframe\">\n",
       "  <thead>\n",
       "    <tr style=\"text-align: right;\">\n",
       "      <th></th>\n",
       "      <th>tweet_id</th>\n",
       "    </tr>\n",
       "  </thead>\n",
       "  <tbody>\n",
       "    <tr>\n",
       "      <th>0</th>\n",
       "      <td>452</td>\n",
       "    </tr>\n",
       "    <tr>\n",
       "      <th>1</th>\n",
       "      <td>179</td>\n",
       "    </tr>\n",
       "  </tbody>\n",
       "</table>\n",
       "</div>"
      ],
      "text/plain": [
       "  tweet_id\n",
       "0      452\n",
       "1      179"
      ]
     },
     "execution_count": 2,
     "metadata": {},
     "output_type": "execute_result"
    }
   ],
   "source": [
    "tweet_copy = pd.DataFrame()\n",
    "for i in range(len(tweets)):\n",
    "    if len(tweets.iloc[i].content) > 15:\n",
    "        tweet_copy = pd.concat([tweet_copy, pd.DataFrame(tweets.loc[i]).transpose()])\n",
    "\n",
    "filterDF = tweet_copy.drop(columns=[\"content\"])\n",
    "filterDF"
   ]
  }
 ],
 "metadata": {
  "kernelspec": {
   "display_name": "Python 3 (ipykernel)",
   "language": "python",
   "name": "python3"
  },
  "language_info": {
   "codemirror_mode": {
    "name": "ipython",
    "version": 3
   },
   "file_extension": ".py",
   "mimetype": "text/x-python",
   "name": "python",
   "nbconvert_exporter": "python",
   "pygments_lexer": "ipython3",
   "version": "3.10.12"
  }
 },
 "nbformat": 4,
 "nbformat_minor": 5
}
