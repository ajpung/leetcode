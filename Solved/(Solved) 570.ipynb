{
 "cells": [
  {
   "cell_type": "code",
   "execution_count": 3,
   "id": "1990a31c-909f-4e8b-97da-81438c6e9cc0",
   "metadata": {},
   "outputs": [],
   "source": [
    "import numpy as np\n",
    "import pandas as pd\n",
    "\n",
    "data = {\n",
    "    \"id\": [101, 102, 103, 104, 105, 106],\n",
    "    \"name\": [\"John\", \"Dan\", \"James\", \"Amy\", \"Anne\", \"Ron\"],\n",
    "    \"department\": [\"A\", \"A\", \"A\", \"A\", \"A\", \"B\"],\n",
    "    \"managerId\": [np.nan, 101, 101, 101, 101, 101],\n",
    "}\n",
    "\n",
    "employee = pd.DataFrame(data)"
   ]
  },
  {
   "cell_type": "code",
   "execution_count": 13,
   "id": "23784713-c3e3-440b-be0d-1343680255ff",
   "metadata": {},
   "outputs": [
    {
     "name": "stdout",
     "output_type": "stream",
     "text": [
      "                                  name\n",
      "0  0    John\n",
      "Name: name, dtype: object\n"
     ]
    }
   ],
   "source": [
    "uniq_manager_id = list(set(employee.dropna()[\"managerId\"]))\n",
    "\n",
    "morethan = []\n",
    "\n",
    "for u in uniq_manager_id:\n",
    "    empcount = list(employee.dropna()[\"managerId\"]).count(u)\n",
    "    if empcount >= 5:\n",
    "        manager_name = employee[employee[\"id\"] == u][\"name\"]\n",
    "        morethan.append(manager_name)\n",
    "\n",
    "cdict = {\"name\": morethan}\n",
    "cmndf = pd.DataFrame(cdict, index=[0])\n",
    "print(cmndf)"
   ]
  },
  {
   "cell_type": "code",
   "execution_count": 12,
   "id": "c50408a9-b04a-4789-a4b4-776575f861b4",
   "metadata": {},
   "outputs": [
    {
     "name": "stdout",
     "output_type": "stream",
     "text": [
      "Index(['name'], dtype='object')\n"
     ]
    }
   ],
   "source": [
    "print(cmndf.columns)"
   ]
  },
  {
   "cell_type": "markdown",
   "id": "568e3771-21ac-4e1b-926f-058e006526bf",
   "metadata": {},
   "source": [
    "# Accepted answer\n",
    "\n",
    "The approach above likely worked, but the solution was not accepted by Leetcode, despite being exactly the same in the first test case. This more elegant solution was found on the website."
   ]
  },
  {
   "cell_type": "code",
   "execution_count": 6,
   "id": "b7efacf8-98fb-4c46-977e-9f056178e917",
   "metadata": {},
   "outputs": [
    {
     "data": {
      "text/html": [
       "<div>\n",
       "<style scoped>\n",
       "    .dataframe tbody tr th:only-of-type {\n",
       "        vertical-align: middle;\n",
       "    }\n",
       "\n",
       "    .dataframe tbody tr th {\n",
       "        vertical-align: top;\n",
       "    }\n",
       "\n",
       "    .dataframe thead th {\n",
       "        text-align: right;\n",
       "    }\n",
       "</style>\n",
       "<table border=\"1\" class=\"dataframe\">\n",
       "  <thead>\n",
       "    <tr style=\"text-align: right;\">\n",
       "      <th></th>\n",
       "      <th>id</th>\n",
       "      <th>name</th>\n",
       "      <th>department</th>\n",
       "      <th>managerId</th>\n",
       "      <th>count</th>\n",
       "    </tr>\n",
       "  </thead>\n",
       "  <tbody>\n",
       "    <tr>\n",
       "      <th>0</th>\n",
       "      <td>101</td>\n",
       "      <td>John</td>\n",
       "      <td>A</td>\n",
       "      <td>NaN</td>\n",
       "      <td>5.0</td>\n",
       "    </tr>\n",
       "    <tr>\n",
       "      <th>1</th>\n",
       "      <td>102</td>\n",
       "      <td>Dan</td>\n",
       "      <td>A</td>\n",
       "      <td>101.0</td>\n",
       "      <td>NaN</td>\n",
       "    </tr>\n",
       "    <tr>\n",
       "      <th>2</th>\n",
       "      <td>103</td>\n",
       "      <td>James</td>\n",
       "      <td>A</td>\n",
       "      <td>101.0</td>\n",
       "      <td>NaN</td>\n",
       "    </tr>\n",
       "    <tr>\n",
       "      <th>3</th>\n",
       "      <td>104</td>\n",
       "      <td>Amy</td>\n",
       "      <td>A</td>\n",
       "      <td>101.0</td>\n",
       "      <td>NaN</td>\n",
       "    </tr>\n",
       "    <tr>\n",
       "      <th>4</th>\n",
       "      <td>105</td>\n",
       "      <td>Anne</td>\n",
       "      <td>A</td>\n",
       "      <td>101.0</td>\n",
       "      <td>NaN</td>\n",
       "    </tr>\n",
       "    <tr>\n",
       "      <th>5</th>\n",
       "      <td>106</td>\n",
       "      <td>Ron</td>\n",
       "      <td>B</td>\n",
       "      <td>101.0</td>\n",
       "      <td>NaN</td>\n",
       "    </tr>\n",
       "  </tbody>\n",
       "</table>\n",
       "</div>"
      ],
      "text/plain": [
       "    id   name department  managerId  count\n",
       "0  101   John          A        NaN    5.0\n",
       "1  102    Dan          A      101.0    NaN\n",
       "2  103  James          A      101.0    NaN\n",
       "3  104    Amy          A      101.0    NaN\n",
       "4  105   Anne          A      101.0    NaN\n",
       "5  106    Ron          B      101.0    NaN"
      ]
     },
     "execution_count": 6,
     "metadata": {},
     "output_type": "execute_result"
    }
   ],
   "source": [
    "pd.merge(\n",
    "    employee,\n",
    "    employee[\"managerId\"].value_counts(),\n",
    "    how=\"left\",\n",
    "    left_on=\"id\",\n",
    "    right_on=\"managerId\",\n",
    ")"
   ]
  },
  {
   "cell_type": "code",
   "execution_count": null,
   "id": "ede9561c-ec31-4f6c-8092-952d33951b7d",
   "metadata": {},
   "outputs": [],
   "source": []
  }
 ],
 "metadata": {
  "kernelspec": {
   "display_name": "Python 3 (ipykernel)",
   "language": "python",
   "name": "python3"
  },
  "language_info": {
   "codemirror_mode": {
    "name": "ipython",
    "version": 3
   },
   "file_extension": ".py",
   "mimetype": "text/x-python",
   "name": "python",
   "nbconvert_exporter": "python",
   "pygments_lexer": "ipython3",
   "version": "3.10.12"
  }
 },
 "nbformat": 4,
 "nbformat_minor": 5
}
