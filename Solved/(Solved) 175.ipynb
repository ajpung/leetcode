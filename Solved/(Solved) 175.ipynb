{
 "cells": [
  {
   "cell_type": "code",
   "execution_count": 1,
   "id": "94e966e6-0a41-4867-b2af-62bc5f69fdfa",
   "metadata": {},
   "outputs": [],
   "source": [
    "import pandas as pd"
   ]
  },
  {
   "cell_type": "code",
   "execution_count": 6,
   "id": "b6281959-a60c-4abf-b9ed-2b9d0f2f10de",
   "metadata": {},
   "outputs": [],
   "source": [
    "data = {\n",
    "    \"personId\": [1, 2],\n",
    "    \"lastName\": [\"Wang\", \"Alice\"],\n",
    "    \"firstName\": [\"Allen\", \"Bob\"],\n",
    "}\n",
    "person = pd.DataFrame(data)\n",
    "data = {\n",
    "    \"addressId\": [1, 2],\n",
    "    \"personId\": [2, 3],\n",
    "    \"city\": [\"New York City\", \"Leetcode\"],\n",
    "    \"state\": [\"New York\", \"California\"],\n",
    "}\n",
    "address = pd.DataFrame(data)"
   ]
  },
  {
   "cell_type": "code",
   "execution_count": 21,
   "id": "e0f0b77a-73c2-45d3-90d5-e8af6dad14de",
   "metadata": {},
   "outputs": [
    {
     "data": {
      "text/html": [
       "<div>\n",
       "<style scoped>\n",
       "    .dataframe tbody tr th:only-of-type {\n",
       "        vertical-align: middle;\n",
       "    }\n",
       "\n",
       "    .dataframe tbody tr th {\n",
       "        vertical-align: top;\n",
       "    }\n",
       "\n",
       "    .dataframe thead th {\n",
       "        text-align: right;\n",
       "    }\n",
       "</style>\n",
       "<table border=\"1\" class=\"dataframe\">\n",
       "  <thead>\n",
       "    <tr style=\"text-align: right;\">\n",
       "      <th></th>\n",
       "      <th>firstName</th>\n",
       "      <th>lastName</th>\n",
       "      <th>city</th>\n",
       "      <th>state</th>\n",
       "    </tr>\n",
       "  </thead>\n",
       "  <tbody>\n",
       "    <tr>\n",
       "      <th>0</th>\n",
       "      <td>Allen</td>\n",
       "      <td>Wang</td>\n",
       "      <td>NaN</td>\n",
       "      <td>NaN</td>\n",
       "    </tr>\n",
       "    <tr>\n",
       "      <th>1</th>\n",
       "      <td>Bob</td>\n",
       "      <td>Alice</td>\n",
       "      <td>New York City</td>\n",
       "      <td>New York</td>\n",
       "    </tr>\n",
       "  </tbody>\n",
       "</table>\n",
       "</div>"
      ],
      "text/plain": [
       "  firstName lastName           city     state\n",
       "0     Allen     Wang            NaN       NaN\n",
       "1       Bob    Alice  New York City  New York"
      ]
     },
     "execution_count": 21,
     "metadata": {},
     "output_type": "execute_result"
    }
   ],
   "source": [
    "# Combine tables\n",
    "comb_table = pd.merge(person, address, how=\"left\", on=\"personId\")\n",
    "# Drop columns\n",
    "comb_table = comb_table.drop(columns=[\"personId\", \"addressId\"])\n",
    "# Reorder dataframe\n",
    "comb_table = comb_table.reindex(columns=[\"firstName\", \"lastName\", \"city\", \"state\"])\n",
    "comb_table"
   ]
  },
  {
   "cell_type": "code",
   "execution_count": null,
   "id": "75d30d4b-7e5a-4d56-a081-142db8d22a66",
   "metadata": {},
   "outputs": [],
   "source": []
  }
 ],
 "metadata": {
  "kernelspec": {
   "display_name": "Python 3 (ipykernel)",
   "language": "python",
   "name": "python3"
  },
  "language_info": {
   "codemirror_mode": {
    "name": "ipython",
    "version": 3
   },
   "file_extension": ".py",
   "mimetype": "text/x-python",
   "name": "python",
   "nbconvert_exporter": "python",
   "pygments_lexer": "ipython3",
   "version": "3.10.12"
  }
 },
 "nbformat": 4,
 "nbformat_minor": 5
}
