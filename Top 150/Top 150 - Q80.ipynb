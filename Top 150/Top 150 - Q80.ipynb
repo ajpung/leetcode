{
 "cells": [
  {
   "cell_type": "code",
   "execution_count": 56,
   "id": "27abbede-92ed-4236-a758-e7cc854f14c3",
   "metadata": {},
   "outputs": [],
   "source": [
    "# nums = [1,1,1,2,2,3]\n",
    "nums = [0, 0, 1, 1, 1, 1, 2, 3, 3]"
   ]
  },
  {
   "cell_type": "code",
   "execution_count": 59,
   "id": "77aef9bb-1b0c-4b16-b0b2-91d5e1316eeb",
   "metadata": {},
   "outputs": [
    {
     "name": "stdout",
     "output_type": "stream",
     "text": [
      "1 2\n",
      "3 2\n",
      "4 3\n",
      "6 2\n",
      "[4]\n"
     ]
    }
   ],
   "source": [
    "rm = []\n",
    "for i in range(len(nums)):\n",
    "    if i == 0 or nums[i] != nums[i - 1]:\n",
    "        counter = 1\n",
    "    else:\n",
    "        if nums[i] == nums[i - 1]:\n",
    "            counter += 1\n",
    "            print(i, counter)\n",
    "            if counter > 2:\n",
    "                rm += [i]\n",
    "\n",
    "print(rm)"
   ]
  },
  {
   "cell_type": "code",
   "execution_count": 58,
   "id": "330b62fe-2b1e-446d-8874-c0a9348953c4",
   "metadata": {},
   "outputs": [
    {
     "data": {
      "text/plain": [
       "[0, 0, 1, 1, 1, 3, 3]"
      ]
     },
     "execution_count": 58,
     "metadata": {},
     "output_type": "execute_result"
    }
   ],
   "source": [
    "nums"
   ]
  },
  {
   "cell_type": "code",
   "execution_count": 14,
   "id": "a5a180d6-d633-49dd-90b8-b3a59e5aa7aa",
   "metadata": {},
   "outputs": [
    {
     "ename": "SyntaxError",
     "evalue": "invalid syntax (2628197295.py, line 1)",
     "output_type": "error",
     "traceback": [
      "\u001b[0;36m  Cell \u001b[0;32mIn[14], line 1\u001b[0;36m\u001b[0m\n\u001b[0;31m    nums.remove(2:4)\u001b[0m\n\u001b[0m                 ^\u001b[0m\n\u001b[0;31mSyntaxError\u001b[0m\u001b[0;31m:\u001b[0m invalid syntax\n"
     ]
    }
   ],
   "source": [
    "nums.remove(2:4)"
   ]
  },
  {
   "cell_type": "code",
   "execution_count": null,
   "id": "b39d36fa-dc94-4eed-a818-76ae89f8edda",
   "metadata": {},
   "outputs": [],
   "source": []
  }
 ],
 "metadata": {
  "kernelspec": {
   "display_name": "Python 3 (ipykernel)",
   "language": "python",
   "name": "python3"
  },
  "language_info": {
   "codemirror_mode": {
    "name": "ipython",
    "version": 3
   },
   "file_extension": ".py",
   "mimetype": "text/x-python",
   "name": "python",
   "nbconvert_exporter": "python",
   "pygments_lexer": "ipython3",
   "version": "3.10.12"
  }
 },
 "nbformat": 4,
 "nbformat_minor": 5
}
