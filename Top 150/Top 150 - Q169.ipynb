{
 "cells": [
  {
   "cell_type": "code",
   "execution_count": 1,
   "id": "6861f23b-ad99-4a02-8191-dcbe4dd372dd",
   "metadata": {},
   "outputs": [],
   "source": [
    "nums = [3,2,3]"
   ]
  },
  {
   "cell_type": "code",
   "execution_count": 11,
   "id": "926123a2-1865-4c07-9b3e-dd60223cf3cd",
   "metadata": {},
   "outputs": [
    {
     "name": "stdout",
     "output_type": "stream",
     "text": [
      "[2, 3] [1, 2]\n"
     ]
    }
   ],
   "source": [
    "uniqs = list(set(nums))\n",
    "uniq_cnt = [nums.count(x) for x in uniqs]\n",
    "print(uniqs,uniq_cnt)"
   ]
  },
  {
   "cell_type": "code",
   "execution_count": 12,
   "id": "aecb4df1-7fd8-4642-9ebf-336de2437fda",
   "metadata": {},
   "outputs": [
    {
     "data": {
      "text/plain": [
       "3"
      ]
     },
     "execution_count": 12,
     "metadata": {},
     "output_type": "execute_result"
    }
   ],
   "source": [
    "max_idx = uniq_cnt.index(max(uniq_cnt))\n",
    "uniqs[max_idx]"
   ]
  },
  {
   "cell_type": "code",
   "execution_count": null,
   "id": "de068d29-7e3c-4b3e-81f1-b158f27d5c6d",
   "metadata": {},
   "outputs": [],
   "source": []
  }
 ],
 "metadata": {
  "kernelspec": {
   "display_name": "Python 3 (ipykernel)",
   "language": "python",
   "name": "python3"
  },
  "language_info": {
   "codemirror_mode": {
    "name": "ipython",
    "version": 3
   },
   "file_extension": ".py",
   "mimetype": "text/x-python",
   "name": "python",
   "nbconvert_exporter": "python",
   "pygments_lexer": "ipython3",
   "version": "3.10.12"
  }
 },
 "nbformat": 4,
 "nbformat_minor": 5
}
