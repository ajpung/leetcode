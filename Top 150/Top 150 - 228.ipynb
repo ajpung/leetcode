{
 "cells": [
  {
   "cell_type": "code",
   "execution_count": 2,
   "id": "591f058a-8d22-4621-b456-fa92dcff1306",
   "metadata": {},
   "outputs": [],
   "source": [
    "nums = [0,1,2,4,5,7]"
   ]
  },
  {
   "cell_type": "code",
   "execution_count": null,
   "id": "a8d99dc1-f8d3-4b45-8c9e-33a355de30e5",
   "metadata": {},
   "outputs": [],
   "source": [
    "min,max "
   ]
  }
 ],
 "metadata": {
  "kernelspec": {
   "display_name": "Python 3 (ipykernel)",
   "language": "python",
   "name": "python3"
  },
  "language_info": {
   "codemirror_mode": {
    "name": "ipython",
    "version": 3
   },
   "file_extension": ".py",
   "mimetype": "text/x-python",
   "name": "python",
   "nbconvert_exporter": "python",
   "pygments_lexer": "ipython3",
   "version": "3.10.12"
  }
 },
 "nbformat": 4,
 "nbformat_minor": 5
}
