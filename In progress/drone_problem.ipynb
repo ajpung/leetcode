{
 "cells": [
  {
   "cell_type": "markdown",
   "metadata": {},
   "source": [
    "# Drone Zone Monitoring System\n",
    "\n",
    "## Problem Description\n",
    "You are tasked with implementing a drone monitoring system for a company that uses drones to monitor specific zones. Each zone contains objects of interest that need to be detected and reported to an external data processing system.\n",
    "Design a Drone class that can:\n",
    "\n",
    "1. Scan a zone and detect objects\n",
    "2. Report the detected objects to an external system\n",
    "3. Handle different types of objects with varying properties\n",
    "4. Manage zone boundaries efficiently\n",
    "\n",
    "## Requirements\n",
    "\n",
    "1. Implement a Drone class with the following methods:\n",
    "\n",
    "- `scan_zone(zone_id)`: Scans a specific zone and returns detected objects\n",
    "- `report_data(data)`: Sends detected object data to an external system\n",
    "\n",
    "2. Each object in a zone has:\n",
    "\n",
    "- A unique ID\n",
    "- X, Y coordinates (assume 2D space for simplicity)\n",
    "- Type (e.g., \"vehicle\", \"person\", \"structure\")\n",
    "- Confidence score (how certain the drone is about the detection)\n",
    "\n",
    "3. The external system expects data in a specific format and may occasionally be unavailable\n",
    "\n",
    "4. The drone should handle edge cases such as:\n",
    "- Objects at zone boundaries\n",
    "- Duplicate object detections\n",
    "- Communication failures with the external system"
   ]
  },
  {
   "cell_type": "code",
   "execution_count": 6,
   "metadata": {},
   "outputs": [],
   "source": [
    "# Example zone data structure (this would be provided by another system)\n",
    "zones = {\n",
    "    \"zone_1\": {\n",
    "        \"boundaries\": (0, 0, 100, 100),  # (min_x, min_y, max_x, max_y)\n",
    "        \"objects\": [\n",
    "            {\"id\": \"obj_1\", \"x\": 15, \"y\": 30, \"type\": \"vehicle\", \"confidence\": 0.95},\n",
    "            {\"id\": \"obj_2\", \"x\": 67, \"y\": 42, \"type\": \"person\", \"confidence\": 0.87},\n",
    "        ],\n",
    "    },\n",
    "}"
   ]
  },
  {
   "cell_type": "code",
   "execution_count": 19,
   "metadata": {},
   "outputs": [],
   "source": [
    "import datetime\n",
    "\n",
    "\n",
    "class Drone:\n",
    "    def __init__(self, zones_data):\n",
    "        # Read in zone data\n",
    "        self.zones_data = zones_data\n",
    "\n",
    "    def scan_zone(self, zones_id):\n",
    "        # Simulate scanning, resulting in data\n",
    "        self.dt = datetime.datetime.now(datetime.timezone.utc)\n",
    "        # self.data = self.zones_data[zone_id]\n",
    "        data = []\n",
    "        for obj in self.zones_data[zones_id][\"objects\"]:\n",
    "            data.append(\n",
    "                {\n",
    "                    \"id\": obj[\"id\"],\n",
    "                    \"location\": [obj[\"x\"], obj[\"y\"]],\n",
    "                    \"type\": obj[\"type\"],\n",
    "                    \"confidence\": obj[\"confidence\"],\n",
    "                }\n",
    "            )\n",
    "        return data\n",
    "\n",
    "    def report_data(self, data):\n",
    "        report = {\n",
    "            \"zone_id\": self.zones_id,\n",
    "            \"timestamp\": self.dt,\n",
    "            \"objects\": data,\n",
    "            \"total_objects\": len(data),\n",
    "        }\n",
    "        return report"
   ]
  },
  {
   "cell_type": "code",
   "execution_count": 20,
   "metadata": {},
   "outputs": [
    {
     "ename": "AttributeError",
     "evalue": "'Drone' object has no attribute 'zones_id'",
     "output_type": "error",
     "traceback": [
      "\u001b[1;31m---------------------------------------------------------------------------\u001b[0m",
      "\u001b[1;31mAttributeError\u001b[0m                            Traceback (most recent call last)",
      "Cell \u001b[1;32mIn[20], line 4\u001b[0m\n\u001b[0;32m      2\u001b[0m drone \u001b[38;5;241m=\u001b[39m Drone(zones)\n\u001b[0;32m      3\u001b[0m targets \u001b[38;5;241m=\u001b[39m drone\u001b[38;5;241m.\u001b[39mscan_zone(\u001b[38;5;124m'\u001b[39m\u001b[38;5;124mzone_1\u001b[39m\u001b[38;5;124m'\u001b[39m)\n\u001b[1;32m----> 4\u001b[0m reports \u001b[38;5;241m=\u001b[39m \u001b[43mdrone\u001b[49m\u001b[38;5;241;43m.\u001b[39;49m\u001b[43mreport_data\u001b[49m\u001b[43m(\u001b[49m\u001b[43mtargets\u001b[49m\u001b[43m)\u001b[49m\n\u001b[0;32m      5\u001b[0m \u001b[38;5;66;03m## Scan a specific zone and get detected objects\u001b[39;00m\n\u001b[0;32m      6\u001b[0m \u001b[38;5;66;03m#detected_objects = drone.scan_zone(\"zone_1\")\u001b[39;00m\n",
      "Cell \u001b[1;32mIn[19], line 24\u001b[0m, in \u001b[0;36mDrone.report_data\u001b[1;34m(self, data)\u001b[0m\n\u001b[0;32m     22\u001b[0m \u001b[38;5;28;01mdef\u001b[39;00m \u001b[38;5;21mreport_data\u001b[39m(\u001b[38;5;28mself\u001b[39m,data):\n\u001b[0;32m     23\u001b[0m     report \u001b[38;5;241m=\u001b[39m {\n\u001b[1;32m---> 24\u001b[0m         \u001b[38;5;124m'\u001b[39m\u001b[38;5;124mzone_id\u001b[39m\u001b[38;5;124m'\u001b[39m: \u001b[38;5;28;43mself\u001b[39;49m\u001b[38;5;241;43m.\u001b[39;49m\u001b[43mzones_id\u001b[49m,\n\u001b[0;32m     25\u001b[0m         \u001b[38;5;124m'\u001b[39m\u001b[38;5;124mtimestamp\u001b[39m\u001b[38;5;124m'\u001b[39m: \u001b[38;5;28mself\u001b[39m\u001b[38;5;241m.\u001b[39mdt,\n\u001b[0;32m     26\u001b[0m         \u001b[38;5;124m'\u001b[39m\u001b[38;5;124mobjects\u001b[39m\u001b[38;5;124m'\u001b[39m: data,\n\u001b[0;32m     27\u001b[0m         \u001b[38;5;124m'\u001b[39m\u001b[38;5;124mtotal_objects\u001b[39m\u001b[38;5;124m'\u001b[39m: \u001b[38;5;28mlen\u001b[39m(data)\n\u001b[0;32m     28\u001b[0m     }\n\u001b[0;32m     29\u001b[0m     \u001b[38;5;28;01mreturn\u001b[39;00m report\n",
      "\u001b[1;31mAttributeError\u001b[0m: 'Drone' object has no attribute 'zones_id'"
     ]
    }
   ],
   "source": [
    "# Create a drone instance\n",
    "drone = Drone(zones)\n",
    "targets = drone.scan_zone(\"zone_1\")\n",
    "reports = drone.report_data(targets)\n",
    "## Scan a specific zone and get detected objects\n",
    "# detected_objects = drone.scan_zone(\"zone_1\")"
   ]
  },
  {
   "cell_type": "code",
   "execution_count": null,
   "metadata": {},
   "outputs": [],
   "source": []
  }
 ],
 "metadata": {
  "kernelspec": {
   "display_name": "Python 3 (ipykernel)",
   "language": "python",
   "name": "python3"
  },
  "language_info": {
   "codemirror_mode": {
    "name": "ipython",
    "version": 3
   },
   "file_extension": ".py",
   "mimetype": "text/x-python",
   "name": "python",
   "nbconvert_exporter": "python",
   "pygments_lexer": "ipython3",
   "version": "3.12.10"
  }
 },
 "nbformat": 4,
 "nbformat_minor": 4
}
