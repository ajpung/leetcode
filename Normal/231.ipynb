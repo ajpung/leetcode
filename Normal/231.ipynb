{
 "cells": [
  {
   "cell_type": "code",
   "execution_count": 30,
   "id": "4982266a-3c2d-4b27-b10e-d759bc56241d",
   "metadata": {},
   "outputs": [],
   "source": [
    "import math"
   ]
  },
  {
   "cell_type": "code",
   "execution_count": 47,
   "id": "72bac9b3-841c-4d1c-bfb3-56c5952c2293",
   "metadata": {},
   "outputs": [
    {
     "data": {
      "text/plain": [
       "True"
      ]
     },
     "execution_count": 47,
     "metadata": {},
     "output_type": "execute_result"
    }
   ],
   "source": [
    "n = 2\n",
    "# (n**0.5)%2==0\n",
    "(math.log2(n)).is_integer()"
   ]
  },
  {
   "cell_type": "code",
   "execution_count": 41,
   "id": "261580ec-ee48-48cb-85fa-70799e65619b",
   "metadata": {},
   "outputs": [
    {
     "data": {
      "text/plain": [
       "2.8284271247461903"
      ]
     },
     "execution_count": 41,
     "metadata": {},
     "output_type": "execute_result"
    }
   ],
   "source": [
    "n ** (1 / 2)"
   ]
  },
  {
   "cell_type": "code",
   "execution_count": 12,
   "id": "f5120e2d-b0b1-41ec-b83e-b54c312a6104",
   "metadata": {},
   "outputs": [
    {
     "data": {
      "text/plain": [
       "0.3535533905932738"
      ]
     },
     "execution_count": 12,
     "metadata": {},
     "output_type": "execute_result"
    }
   ],
   "source": [
    "0.125**0.5"
   ]
  },
  {
   "cell_type": "code",
   "execution_count": null,
   "id": "f4e43c47-8309-43f2-9109-82c6df94496a",
   "metadata": {},
   "outputs": [],
   "source": []
  }
 ],
 "metadata": {
  "kernelspec": {
   "display_name": "Python 3 (ipykernel)",
   "language": "python",
   "name": "python3"
  },
  "language_info": {
   "codemirror_mode": {
    "name": "ipython",
    "version": 3
   },
   "file_extension": ".py",
   "mimetype": "text/x-python",
   "name": "python",
   "nbconvert_exporter": "python",
   "pygments_lexer": "ipython3",
   "version": "3.10.12"
  }
 },
 "nbformat": 4,
 "nbformat_minor": 5
}
