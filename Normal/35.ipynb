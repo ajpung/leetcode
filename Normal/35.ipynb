{
 "cells": [
  {
   "cell_type": "code",
   "execution_count": 9,
   "id": "cdd0a66e-2478-45ef-bbb3-914ed2739c42",
   "metadata": {},
   "outputs": [],
   "source": [
    "nums = [1,3,5,6]\n",
    "target = 4"
   ]
  },
  {
   "cell_type": "code",
   "execution_count": 16,
   "id": "91783ee9-b816-4750-b357-235d604dedd3",
   "metadata": {},
   "outputs": [],
   "source": [
    "def searchInsert(self, nums: List[int], target: int) -> int:\n",
    "    if target in nums:\n",
    "        return nums.index(target)\n",
    "    else:\n",
    "        for i in range(len(nums)):\n",
    "            if target>all(nums):\n",
    "                return len(nums)+1\n",
    "            elif target<all(nums):\n",
    "                return 0\n",
    "            elif target>nums[i]:\n",
    "                continue\n",
    "            else:\n",
    "                return i"
   ]
  },
  {
   "cell_type": "code",
   "execution_count": 17,
   "id": "e396d54b-5a51-4e5a-ab13-3e0a94666f14",
   "metadata": {},
   "outputs": [
    {
     "name": "stdout",
     "output_type": "stream",
     "text": [
      "2\n"
     ]
    }
   ],
   "source": [
    "searchInsert(nums,target)"
   ]
  },
  {
   "cell_type": "code",
   "execution_count": null,
   "id": "5f4fb43f-bc2b-4676-8bd2-420edc1ad180",
   "metadata": {},
   "outputs": [],
   "source": []
  }
 ],
 "metadata": {
  "kernelspec": {
   "display_name": "Python 3 (ipykernel)",
   "language": "python",
   "name": "python3"
  },
  "language_info": {
   "codemirror_mode": {
    "name": "ipython",
    "version": 3
   },
   "file_extension": ".py",
   "mimetype": "text/x-python",
   "name": "python",
   "nbconvert_exporter": "python",
   "pygments_lexer": "ipython3",
   "version": "3.10.12"
  }
 },
 "nbformat": 4,
 "nbformat_minor": 5
}
