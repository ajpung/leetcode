{
 "cells": [
  {
   "cell_type": "code",
   "execution_count": 43,
   "id": "411b8365-b48a-46b4-a6db-0acd0f8796c8",
   "metadata": {},
   "outputs": [],
   "source": [
    "num = 2736\n",
    "num = 9973\n",
    "num = 9937\n",
    "#num = 5\n",
    "#num = 12\n",
    "#num = 100\n",
    "#num = 10"
   ]
  },
  {
   "cell_type": "code",
   "execution_count": 44,
   "id": "e56bd5f5-c165-4d85-afdf-5e3fdd4e60bd",
   "metadata": {},
   "outputs": [
    {
     "name": "stdout",
     "output_type": "stream",
     "text": [
      "[9, 9, 3, 7]\n"
     ]
    }
   ],
   "source": [
    "intlist = [int(x) for x in str(num)]\n",
    "\n",
    "# Ensure value is not less than 10\n",
    "if len(intlist)<2:\n",
    "    newlist = intlist\n",
    "else:\n",
    "    # Iterate through all values, starting from left\n",
    "    for i in range(len(intlist)):\n",
    "        # Find largest value in remaining list\n",
    "        maxidx = intlist.index(max(intlist[i:]))\n",
    "        # If current value is not maximum in remaining values\n",
    "        if maxidx != i:\n",
    "            # Swap largest value with idx 0\n",
    "            newlist = intlist.copy()\n",
    "            newlist[i] = intlist[maxidx]\n",
    "            newlist[maxidx] = intlist[i]\n",
    "            break\n",
    "\n",
    "print(newlist)    \n",
    "#newlist = nstr.copy()\n",
    "#newlist[0] = nstr[maxidx]\n",
    "#newlist"
   ]
  },
  {
   "cell_type": "code",
   "execution_count": null,
   "id": "7691d729-8cdc-45c6-aaf4-d6d1465b1353",
   "metadata": {},
   "outputs": [],
   "source": []
  }
 ],
 "metadata": {
  "kernelspec": {
   "display_name": "Python 3 (ipykernel)",
   "language": "python",
   "name": "python3"
  },
  "language_info": {
   "codemirror_mode": {
    "name": "ipython",
    "version": 3
   },
   "file_extension": ".py",
   "mimetype": "text/x-python",
   "name": "python",
   "nbconvert_exporter": "python",
   "pygments_lexer": "ipython3",
   "version": "3.10.12"
  }
 },
 "nbformat": 4,
 "nbformat_minor": 5
}
