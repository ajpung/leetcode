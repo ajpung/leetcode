{
 "cells": [
  {
   "cell_type": "code",
   "execution_count": 1,
   "id": "59188d99-0562-4480-8a21-9a55eb250c3c",
   "metadata": {},
   "outputs": [],
   "source": [
    "folder = [\"/a\", \"/a/b\", \"/c/d\", \"/c/d/e\", \"/c/f\"]\n",
    "folder = [\"/c/f\", \"/c/d\", \"/a\", \"/a/b\", \"/c/d/e\"]\n",
    "folder = [\"/c/f\", \"/c/d\", \"/a\", \"/a/b\", \"/c/d/e\", \"/leetcode/myleet\"]"
   ]
  },
  {
   "cell_type": "code",
   "execution_count": 2,
   "id": "e9311c03-cd8f-43b2-852c-0e10b66e4b98",
   "metadata": {},
   "outputs": [
    {
     "name": "stdout",
     "output_type": "stream",
     "text": [
      "['/a', '/a/b', '/c/d', '/c/d/e', '/c/f', '/leetcode/myleet']\n"
     ]
    },
    {
     "data": {
      "text/plain": [
       "{'/a', '/c', '/leetcode'}"
      ]
     },
     "execution_count": 2,
     "metadata": {},
     "output_type": "execute_result"
    }
   ],
   "source": [
    "from pathlib import Path\n",
    "\n",
    "l0 = []\n",
    "flist = sorted(folder)\n",
    "for a in flist:\n",
    "    if a == \"/\":\n",
    "        continue\n",
    "    else:\n",
    "        # Find slash positions\n",
    "        slapo = [i for i in range(len(a)) if a.startswith(\"/\", i)]\n",
    "        # Get first drive\n",
    "        if len(slapo) == 1:\n",
    "            l0 += [a]\n",
    "        else:\n",
    "            l0 += [a[slapo[0] : slapo[1]]]\n",
    "print(flist)\n",
    "set(list(l0))"
   ]
  },
  {
   "cell_type": "code",
   "execution_count": 3,
   "id": "8263f7e8-7859-45c5-9cfe-85467e4d0803",
   "metadata": {},
   "outputs": [
    {
     "data": {
      "text/plain": [
       "0"
      ]
     },
     "execution_count": 3,
     "metadata": {},
     "output_type": "execute_result"
    }
   ],
   "source": [
    "sorted(folder)[2].find(\"/\")"
   ]
  },
  {
   "cell_type": "code",
   "execution_count": null,
   "id": "c477910f-94e5-4463-8251-104839ec8745",
   "metadata": {},
   "outputs": [],
   "source": []
  }
 ],
 "metadata": {
  "kernelspec": {
   "display_name": "Python 3 (ipykernel)",
   "language": "python",
   "name": "python3"
  },
  "language_info": {
   "codemirror_mode": {
    "name": "ipython",
    "version": 3
   },
   "file_extension": ".py",
   "mimetype": "text/x-python",
   "name": "python",
   "nbconvert_exporter": "python",
   "pygments_lexer": "ipython3",
   "version": "3.10.12"
  }
 },
 "nbformat": 4,
 "nbformat_minor": 5
}
