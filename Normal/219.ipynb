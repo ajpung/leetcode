{
 "cells": [
  {
   "cell_type": "code",
   "execution_count": 43,
   "id": "96b78c06-c512-4440-9229-f97a9519b2c7",
   "metadata": {},
   "outputs": [],
   "source": [
    "nums = [1, 2, 3, 1]\n",
    "k = 3\n",
    "nums = [1, 0, 1, 1]\n",
    "k = 1\n",
    "nums = [1, 2, 3, 1, 2, 3]\n",
    "k = 2"
   ]
  },
  {
   "cell_type": "code",
   "execution_count": 45,
   "id": "861c4405-8ae0-4a4f-9188-eaa4aeb93de1",
   "metadata": {},
   "outputs": [
    {
     "name": "stdout",
     "output_type": "stream",
     "text": [
      "false\n"
     ]
    }
   ],
   "source": [
    "from itertools import combinations\n",
    "\n",
    "duplicates = []\n",
    "\n",
    "for i in set(nums):\n",
    "    if nums.count(i) > 1:\n",
    "        duplicates += [i]\n",
    "\n",
    "for d in duplicates:\n",
    "    idx = list(filter(lambda l: nums[l] == d, range(len(nums))))\n",
    "    for c in list(combinations(idx, 2)):\n",
    "        if abs(c[0] - c[1]) <= k:\n",
    "            print(\"true\")\n",
    "\n",
    "print(\"false\")"
   ]
  },
  {
   "cell_type": "code",
   "execution_count": null,
   "id": "e391b81c-4d94-472f-a99c-6e2dbe783cf0",
   "metadata": {},
   "outputs": [],
   "source": []
  }
 ],
 "metadata": {
  "kernelspec": {
   "display_name": "Python 3 (ipykernel)",
   "language": "python",
   "name": "python3"
  },
  "language_info": {
   "codemirror_mode": {
    "name": "ipython",
    "version": 3
   },
   "file_extension": ".py",
   "mimetype": "text/x-python",
   "name": "python",
   "nbconvert_exporter": "python",
   "pygments_lexer": "ipython3",
   "version": "3.10.12"
  }
 },
 "nbformat": 4,
 "nbformat_minor": 5
}
