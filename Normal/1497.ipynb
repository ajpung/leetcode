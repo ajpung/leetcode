{
 "cells": [
  {
   "cell_type": "code",
   "execution_count": 91,
   "id": "6564f9c2-b037-4330-ac6e-d3d47b9ef88b",
   "metadata": {},
   "outputs": [],
   "source": [
    "# arr = [1,2,3,4,5,10,6,7,8,9]\n",
    "# k = 5\n",
    "\n",
    "arr = [-1, -1, -1, -1, 2, 2, -2, -2]\n",
    "k = 3"
   ]
  },
  {
   "cell_type": "code",
   "execution_count": 92,
   "id": "e83d0caa-80c3-4f7a-90bf-f624d92341d3",
   "metadata": {},
   "outputs": [
    {
     "name": "stdout",
     "output_type": "stream",
     "text": [
      "[-1, -2]\n",
      "[-1, -1, -1, -1, 2, 2, -2, -2]\n",
      "[-1, -1, -1, 2, 2, -2] \n",
      "\n",
      "[-1, -2]\n",
      "[-1, -1, -1, 2, 2, -2]\n",
      "[-1, -1, 2, 2] \n",
      "\n",
      "[-1, -2]\n",
      "[-1, -1, 2, 2]\n"
     ]
    },
    {
     "ename": "ValueError",
     "evalue": "-2 is not in list",
     "output_type": "error",
     "traceback": [
      "\u001b[0;31m---------------------------------------------------------------------------\u001b[0m",
      "\u001b[0;31mValueError\u001b[0m                                Traceback (most recent call last)",
      "Cell \u001b[0;32mIn[92], line 14\u001b[0m\n\u001b[1;32m     12\u001b[0m \u001b[38;5;28mprint\u001b[39m(carr)\n\u001b[1;32m     13\u001b[0m \u001b[38;5;28;01mdel\u001b[39;00m carr[carr\u001b[38;5;241m.\u001b[39mindex(arr[i])]\n\u001b[0;32m---> 14\u001b[0m \u001b[38;5;28;01mdel\u001b[39;00m carr[\u001b[43mcarr\u001b[49m\u001b[38;5;241;43m.\u001b[39;49m\u001b[43mindex\u001b[49m\u001b[43m(\u001b[49m\u001b[43mrarr\u001b[49m\u001b[43m[\u001b[49m\u001b[43mj\u001b[49m\u001b[43m]\u001b[49m\u001b[43m)\u001b[49m]\n\u001b[1;32m     15\u001b[0m \u001b[38;5;28mprint\u001b[39m(carr,\u001b[38;5;124m'\u001b[39m\u001b[38;5;130;01m\\n\u001b[39;00m\u001b[38;5;124m'\u001b[39m)\n\u001b[1;32m     16\u001b[0m \u001b[38;5;66;03m#print(arr[i],rarr[j])\u001b[39;00m\n",
      "\u001b[0;31mValueError\u001b[0m: -2 is not in list"
     ]
    }
   ],
   "source": [
    "# Number combinations\n",
    "combs = len(arr) * (len(arr) - 1) / 2\n",
    "\n",
    "working = []\n",
    "carr = arr.copy()\n",
    "for i in range(0, len(arr)):\n",
    "    rarr = arr[i + 1 :]\n",
    "    for j in range(0, len(rarr)):\n",
    "        curpair = [arr[i], rarr[j]]\n",
    "        if (arr[i] + rarr[j]) % k == 0:\n",
    "            print(curpair)\n",
    "            print(carr)\n",
    "            del carr[carr.index(arr[i])]\n",
    "            del carr[carr.index(rarr[j])]\n",
    "            print(carr, \"\\n\")\n",
    "            # print(arr[i],rarr[j])"
   ]
  },
  {
   "cell_type": "code",
   "execution_count": 62,
   "id": "49ce6819-f08e-473b-8ddc-f93d95d6ad0b",
   "metadata": {},
   "outputs": [
    {
     "name": "stdout",
     "output_type": "stream",
     "text": [
      "[1, 3]\n"
     ]
    }
   ],
   "source": [
    "del uarr[1]\n",
    "print(uarr)"
   ]
  },
  {
   "cell_type": "code",
   "execution_count": null,
   "id": "2827a2ff-2cda-40a3-bf83-f60adb00492e",
   "metadata": {},
   "outputs": [
    {
     "name": "stdout",
     "output_type": "stream",
     "text": [
      "1 2\n"
     ]
    }
   ],
   "source": [
    "#            working += [arr[i],rarr[j]]\n",
    "#            print(working)\n",
    "#            #if all(e in working for e in arr):\n",
    "#            #    print(working)\n",
    "#                #return True\n",
    "# return False\n",
    "\n",
    "\n",
    "# for i in range(0,len(arr)):\n",
    "#    rarr = arr[i+1:]\n",
    "#    for j in range(0,len(rarr)):\n",
    "#        curpair = [arr[i],rarr[j]]\n",
    "#        if (arr[i]+rarr[j])%k==0:\n",
    "#            #print([arr[i],rarr[j],(arr[i]+rarr[j])/k])\n",
    "#            working += [arr[i],rarr[j]]\n",
    "#            print(working)\n",
    "#            #if all(e in working for e in arr):\n",
    "#            #    print(working)\n",
    "#                #return True\n",
    "# return False\n",
    "\n",
    "\n",
    "# Combinations\n",
    "# remarr = arr[i+1:]\n",
    "# for j in range(0,len(remarr)):\n",
    "#    curpair = [arr[i],remarr[j]]\n",
    "#    if curpair[0]+curpair[1]%5==0:\n",
    "#"
   ]
  },
  {
   "cell_type": "code",
   "execution_count": null,
   "id": "cd1ce398-ec3e-42de-b82d-3bc0242070c8",
   "metadata": {},
   "outputs": [],
   "source": []
  }
 ],
 "metadata": {
  "kernelspec": {
   "display_name": "Python 3 (ipykernel)",
   "language": "python",
   "name": "python3"
  },
  "language_info": {
   "codemirror_mode": {
    "name": "ipython",
    "version": 3
   },
   "file_extension": ".py",
   "mimetype": "text/x-python",
   "name": "python",
   "nbconvert_exporter": "python",
   "pygments_lexer": "ipython3",
   "version": "3.10.12"
  }
 },
 "nbformat": 4,
 "nbformat_minor": 5
}
