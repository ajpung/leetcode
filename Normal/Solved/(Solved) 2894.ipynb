{
 "cells": [
  {
   "cell_type": "code",
   "execution_count": 27,
   "id": "6d1907cf-d8a0-40fb-81b4-15894c38038e",
   "metadata": {},
   "outputs": [],
   "source": [
    "import numpy as np\n",
    "\n",
    "n, m = 10, 3\n",
    "n, m = 5, 6\n",
    "n, m = 5, 1\n",
    "n, m = 1, -99999999\n",
    "n, m = 1, 0"
   ]
  },
  {
   "cell_type": "code",
   "execution_count": 29,
   "id": "2c1526ce-2b7d-4ef5-901e-f7859dcb5be1",
   "metadata": {},
   "outputs": [
    {
     "name": "stdout",
     "output_type": "stream",
     "text": [
      "0\n"
     ]
    }
   ],
   "source": [
    "nrange = range(1, n + 1)\n",
    "if m == 0:\n",
    "    ans = 0\n",
    "else:\n",
    "    num1 = sum([x for x in nrange if x % m != 0])\n",
    "    num2 = sum([x for x in nrange if x % m == 0])\n",
    "    ans = int(num1 - num2)\n",
    "print(ans)"
   ]
  },
  {
   "cell_type": "code",
   "execution_count": null,
   "id": "b95478c6-48cc-4a63-9b1a-6187a31a5c7b",
   "metadata": {},
   "outputs": [],
   "source": [
    "n"
   ]
  }
 ],
 "metadata": {
  "kernelspec": {
   "display_name": "Python 3 (ipykernel)",
   "language": "python",
   "name": "python3"
  },
  "language_info": {
   "codemirror_mode": {
    "name": "ipython",
    "version": 3
   },
   "file_extension": ".py",
   "mimetype": "text/x-python",
   "name": "python",
   "nbconvert_exporter": "python",
   "pygments_lexer": "ipython3",
   "version": "3.10.12"
  }
 },
 "nbformat": 4,
 "nbformat_minor": 5
}
