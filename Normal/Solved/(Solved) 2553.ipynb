{
 "cells": [
  {
   "cell_type": "code",
   "execution_count": 17,
   "id": "6ba7a9b0-2baf-46c6-a3a3-e54a09c3e1c4",
   "metadata": {},
   "outputs": [
    {
     "name": "stdout",
     "output_type": "stream",
     "text": [
      "[93458, 24987, 95558, 47189, 10889, 46022, 4013, 9175, 24518, 87898]\n"
     ]
    }
   ],
   "source": [
    "import random \n",
    "nums = [13,25,83,77]\n",
    "nums = [7,1,3,9]\n",
    "nums = [10921]\n",
    "nums = [random.randint(1, 10**5) for _ in range(10)]\n",
    "print(nums)"
   ]
  },
  {
   "cell_type": "code",
   "execution_count": 18,
   "id": "0b924f2c-01ba-4ada-82f6-c3f996f59494",
   "metadata": {},
   "outputs": [
    {
     "name": "stdout",
     "output_type": "stream",
     "text": [
      "[9, 3, 4, 5, 8, 2, 4, 9, 8, 7, 9, 5, 5, 5, 8, 4, 7, 1, 8, 9, 1, 0, 8, 8, 9, 4, 6, 0, 2, 2, 4, 0, 1, 3, 9, 1, 7, 5, 2, 4, 5, 1, 8, 8, 7, 8, 9, 8]\n"
     ]
    }
   ],
   "source": [
    "s = []\n",
    "for x in nums:\n",
    "    s += [int(i) for i in str(x)]\n",
    "print(s)\n",
    "    "
   ]
  },
  {
   "cell_type": "code",
   "execution_count": null,
   "id": "a5a7588e-cb81-4ce2-a37a-5a4e02eaa25e",
   "metadata": {},
   "outputs": [],
   "source": []
  }
 ],
 "metadata": {
  "kernelspec": {
   "display_name": "Python 3 (ipykernel)",
   "language": "python",
   "name": "python3"
  },
  "language_info": {
   "codemirror_mode": {
    "name": "ipython",
    "version": 3
   },
   "file_extension": ".py",
   "mimetype": "text/x-python",
   "name": "python",
   "nbconvert_exporter": "python",
   "pygments_lexer": "ipython3",
   "version": "3.10.12"
  }
 },
 "nbformat": 4,
 "nbformat_minor": 5
}
