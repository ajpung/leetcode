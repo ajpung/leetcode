{
 "cells": [
  {
   "cell_type": "code",
   "execution_count": 1,
   "id": "c7f5b3c7-36b4-4254-baed-d6493881fa91",
   "metadata": {},
   "outputs": [],
   "source": [
    "s = \"10101\"\n",
    "k = 1\n",
    "s = \"1010101\"\n",
    "k = 2\n",
    "s = \"11111\"\n",
    "k = 1\n",
    "s = \"1\"\n",
    "k = 1"
   ]
  },
  {
   "cell_type": "code",
   "execution_count": 2,
   "id": "4f6b0532-2dd5-4164-87b1-705058673697",
   "metadata": {},
   "outputs": [
    {
     "name": "stdout",
     "output_type": "stream",
     "text": [
      "1\n"
     ]
    }
   ],
   "source": [
    "valid = 0\n",
    "for window_len in range(1, len(s) + 1):\n",
    "    # Find number of windows\n",
    "    num_windows = len(s) - window_len + 1\n",
    "    # For each window\n",
    "    for i in range(num_windows):\n",
    "        # Define window indices\n",
    "        start = i\n",
    "        end = start + window_len\n",
    "        ss = s[start:end]\n",
    "        # Process substring\n",
    "        if ss.count(\"0\") <= k or ss.count(\"1\") <= k:\n",
    "            valid += 1\n",
    "\n",
    "print(valid)"
   ]
  }
 ],
 "metadata": {
  "kernelspec": {
   "display_name": "Python 3 (ipykernel)",
   "language": "python",
   "name": "python3"
  },
  "language_info": {
   "codemirror_mode": {
    "name": "ipython",
    "version": 3
   },
   "file_extension": ".py",
   "mimetype": "text/x-python",
   "name": "python",
   "nbconvert_exporter": "python",
   "pygments_lexer": "ipython3",
   "version": "3.10.12"
  }
 },
 "nbformat": 4,
 "nbformat_minor": 5
}
