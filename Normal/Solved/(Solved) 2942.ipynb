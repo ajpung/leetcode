{
 "cells": [
  {
   "cell_type": "code",
   "execution_count": 5,
   "id": "cbcdcf41-aa60-4e28-bbe5-6577156efb48",
   "metadata": {},
   "outputs": [],
   "source": [
    "words=[\"leet\",\"code\"]; x=\"e\"\n",
    "words = [\"abc\",\"bcd\",\"aaaa\",\"cbc\"]; x = \"a\"\n",
    "words = [\"abc\",\"bcd\",\"aaaa\",\"cbc\"]; x = \"z\""
   ]
  },
  {
   "cell_type": "code",
   "execution_count": 6,
   "id": "b8028c25-9be7-42f9-9efb-311a99be466a",
   "metadata": {},
   "outputs": [
    {
     "name": "stdout",
     "output_type": "stream",
     "text": [
      "[]\n"
     ]
    }
   ],
   "source": [
    "idx = []\n",
    "for i in range(len(words)):\n",
    "    if x in words[i]: idx+=[i]\n",
    "print(idx)"
   ]
  },
  {
   "cell_type": "code",
   "execution_count": null,
   "id": "cafa3485-0549-480a-963c-fde79ed50ab0",
   "metadata": {},
   "outputs": [],
   "source": []
  }
 ],
 "metadata": {
  "kernelspec": {
   "display_name": "Python 3 (ipykernel)",
   "language": "python",
   "name": "python3"
  },
  "language_info": {
   "codemirror_mode": {
    "name": "ipython",
    "version": 3
   },
   "file_extension": ".py",
   "mimetype": "text/x-python",
   "name": "python",
   "nbconvert_exporter": "python",
   "pygments_lexer": "ipython3",
   "version": "3.10.12"
  }
 },
 "nbformat": 4,
 "nbformat_minor": 5
}
