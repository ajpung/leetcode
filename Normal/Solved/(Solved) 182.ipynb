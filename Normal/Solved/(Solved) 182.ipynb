{
 "cells": [
  {
   "cell_type": "code",
   "execution_count": 2,
   "id": "94e966e6-0a41-4867-b2af-62bc5f69fdfa",
   "metadata": {},
   "outputs": [],
   "source": [
    "import pandas as pd"
   ]
  },
  {
   "cell_type": "code",
   "execution_count": 18,
   "id": "b6281959-a60c-4abf-b9ed-2b9d0f2f10de",
   "metadata": {},
   "outputs": [],
   "source": [
    "data = {'id':[1,2,3],\n",
    "        'email':['a@b.com','c@d.com','a@b.com']}\n",
    "data = {'id':[1,2,3],\n",
    "        'email':['jacky@yahoo.com','jacky@yahoo.com','jacky@yahoo.com']}\n",
    "person = pd.DataFrame(data)"
   ]
  },
  {
   "cell_type": "code",
   "execution_count": 27,
   "id": "e0f0b77a-73c2-45d3-90d5-e8af6dad14de",
   "metadata": {},
   "outputs": [
    {
     "name": "stdout",
     "output_type": "stream",
     "text": [
      "             Email\n",
      "1  jacky@yahoo.com\n"
     ]
    }
   ],
   "source": [
    "nodup = person[person.duplicated(subset=['email'])==True]\n",
    "nodup = nodup.drop(columns=['id']).drop_duplicates()\n",
    "nodup = nodup.rename(columns={'email':'Email'})\n",
    "print(nodup)"
   ]
  },
  {
   "cell_type": "code",
   "execution_count": null,
   "id": "75d30d4b-7e5a-4d56-a081-142db8d22a66",
   "metadata": {},
   "outputs": [],
   "source": []
  }
 ],
 "metadata": {
  "kernelspec": {
   "display_name": "Python 3 (ipykernel)",
   "language": "python",
   "name": "python3"
  },
  "language_info": {
   "codemirror_mode": {
    "name": "ipython",
    "version": 3
   },
   "file_extension": ".py",
   "mimetype": "text/x-python",
   "name": "python",
   "nbconvert_exporter": "python",
   "pygments_lexer": "ipython3",
   "version": "3.10.12"
  }
 },
 "nbformat": 4,
 "nbformat_minor": 5
}
