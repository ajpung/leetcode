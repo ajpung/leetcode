{
 "cells": [
  {
   "cell_type": "code",
   "execution_count": 1,
   "id": "97cce9ff-cff4-4efd-98b2-2f128541b8ae",
   "metadata": {},
   "outputs": [],
   "source": [
    "s = \"iiii\"\n",
    "k = 1\n",
    "s = \"leetcode\"\n",
    "k = 2\n",
    "s = \"zbax\"\n",
    "k = 2"
   ]
  },
  {
   "cell_type": "code",
   "execution_count": 2,
   "id": "198c1429-f111-4826-9a15-4c69b11aac92",
   "metadata": {},
   "outputs": [],
   "source": [
    "key = \"abcdefghijklmnopqrstuvwxyz\"\n",
    "numlist = []\n",
    "# Step 1\n",
    "for a in s:\n",
    "    numlist += [int(key.find(a)) + 1]\n",
    "\n",
    "for i in range(k):\n",
    "    if i == 0:\n",
    "        newlist = numlist\n",
    "    newnum = int(\"\".join([str(x) for x in newlist]))\n",
    "    newlist = [int(m) for m in str(newnum)]\n",
    "    mysum = sum(newlist)\n",
    "    newlist = [int(m) for m in str(mysum)]"
   ]
  }
 ],
 "metadata": {
  "kernelspec": {
   "display_name": "Python 3 (ipykernel)",
   "language": "python",
   "name": "python3"
  },
  "language_info": {
   "codemirror_mode": {
    "name": "ipython",
    "version": 3
   },
   "file_extension": ".py",
   "mimetype": "text/x-python",
   "name": "python",
   "nbconvert_exporter": "python",
   "pygments_lexer": "ipython3",
   "version": "3.10.12"
  }
 },
 "nbformat": 4,
 "nbformat_minor": 5
}
