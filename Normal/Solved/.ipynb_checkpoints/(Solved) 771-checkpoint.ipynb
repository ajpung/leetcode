{
 "cells": [
  {
   "cell_type": "code",
   "execution_count": 9,
   "id": "184424d8-e1f5-4e19-9c32-6da093a5861e",
   "metadata": {},
   "outputs": [],
   "source": [
    "jewels = \"aA\"; stones = \"aAAbbbb\"\n",
    "jewels = \"z\"; stones = \"ZZ\"\n",
    "jewels = \"z\"; stones = \"aaAAaaAAzBBbbBBbbccCCcczDD\""
   ]
  },
  {
   "cell_type": "code",
   "execution_count": 10,
   "id": "99bbe6a2-b54b-4fa9-ab76-b139da3acaca",
   "metadata": {},
   "outputs": [],
   "source": [
    "total = 0\n",
    "jewels = [a for a in jewels]\n",
    "for s in stones:\n",
    "    if s in jewels: total+=1"
   ]
  },
  {
   "cell_type": "code",
   "execution_count": 11,
   "id": "748f25ad-4e86-4ccb-b3de-e7214755e0ce",
   "metadata": {},
   "outputs": [
    {
     "data": {
      "text/plain": [
       "2"
      ]
     },
     "execution_count": 11,
     "metadata": {},
     "output_type": "execute_result"
    }
   ],
   "source": [
    "total"
   ]
  },
  {
   "cell_type": "code",
   "execution_count": null,
   "id": "d9c7d671-1106-49c4-865b-52d23693b149",
   "metadata": {},
   "outputs": [],
   "source": []
  }
 ],
 "metadata": {
  "kernelspec": {
   "display_name": "Python 3 (ipykernel)",
   "language": "python",
   "name": "python3"
  },
  "language_info": {
   "codemirror_mode": {
    "name": "ipython",
    "version": 3
   },
   "file_extension": ".py",
   "mimetype": "text/x-python",
   "name": "python",
   "nbconvert_exporter": "python",
   "pygments_lexer": "ipython3",
   "version": "3.10.12"
  }
 },
 "nbformat": 4,
 "nbformat_minor": 5
}
