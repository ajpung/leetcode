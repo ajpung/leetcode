{
 "cells": [
  {
   "cell_type": "code",
   "execution_count": 6,
   "id": "f4f5c51b-4466-4dce-8a4f-1fce42b9677a",
   "metadata": {},
   "outputs": [],
   "source": [
    "nums1, nums2 = [1, 2, 3], [2, 4, 6]  # [[1, 3], [4, 6]]\n",
    "nums1, nums2 = [1, 2, 3, 3], [1, 1, 2, 2]  # [[3],[]]"
   ]
  },
  {
   "cell_type": "code",
   "execution_count": 7,
   "id": "b78cfea2-f788-4a4e-94e2-300bc9699888",
   "metadata": {},
   "outputs": [
    {
     "data": {
      "text/plain": [
       "[[3], []]"
      ]
     },
     "execution_count": 7,
     "metadata": {},
     "output_type": "execute_result"
    }
   ],
   "source": [
    "[\n",
    "    list(set([x for x in nums1 if x not in nums2])),\n",
    "    list(set([x for x in nums2 if x not in nums1])),\n",
    "]"
   ]
  },
  {
   "cell_type": "code",
   "execution_count": null,
   "id": "1835cc2a-af78-4b64-8f78-55e69049fefe",
   "metadata": {},
   "outputs": [],
   "source": []
  }
 ],
 "metadata": {
  "kernelspec": {
   "display_name": "Python 3 (ipykernel)",
   "language": "python",
   "name": "python3"
  },
  "language_info": {
   "codemirror_mode": {
    "name": "ipython",
    "version": 3
   },
   "file_extension": ".py",
   "mimetype": "text/x-python",
   "name": "python",
   "nbconvert_exporter": "python",
   "pygments_lexer": "ipython3",
   "version": "3.10.12"
  }
 },
 "nbformat": 4,
 "nbformat_minor": 5
}
