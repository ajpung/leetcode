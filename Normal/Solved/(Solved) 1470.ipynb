{
 "cells": [
  {
   "cell_type": "code",
   "execution_count": 9,
   "id": "66c325e8-67eb-4bab-9ae1-d7ad75f7740b",
   "metadata": {},
   "outputs": [],
   "source": [
    "nums = [2,5,1,3,4,7]; n = 3\n",
    "nums = [1,2,3,4,4,3,2,1]; n = 4\n",
    "nums = [1,1,2,2]; n = 2"
   ]
  },
  {
   "cell_type": "code",
   "execution_count": 10,
   "id": "a510df63-b380-4d99-b304-214797832b1c",
   "metadata": {},
   "outputs": [
    {
     "name": "stdout",
     "output_type": "stream",
     "text": [
      "[1, 2, 1, 2]\n"
     ]
    }
   ],
   "source": [
    "arr1,arr2 = nums[:n], nums[n:]\n",
    "empt = []\n",
    "for i in range(len(arr1)):\n",
    "    empt += [arr1[i],arr2[i]]\n",
    "print(empt)"
   ]
  },
  {
   "cell_type": "code",
   "execution_count": null,
   "id": "68b007f8-a226-4456-9e3e-ad6b2a2010d7",
   "metadata": {},
   "outputs": [],
   "source": []
  }
 ],
 "metadata": {
  "kernelspec": {
   "display_name": "Python 3 (ipykernel)",
   "language": "python",
   "name": "python3"
  },
  "language_info": {
   "codemirror_mode": {
    "name": "ipython",
    "version": 3
   },
   "file_extension": ".py",
   "mimetype": "text/x-python",
   "name": "python",
   "nbconvert_exporter": "python",
   "pygments_lexer": "ipython3",
   "version": "3.10.12"
  }
 },
 "nbformat": 4,
 "nbformat_minor": 5
}
