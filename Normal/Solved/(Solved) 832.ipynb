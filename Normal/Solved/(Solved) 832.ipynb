{
 "cells": [
  {
   "cell_type": "code",
   "execution_count": 52,
   "id": "9a9ca611-8b2b-4b5f-af3f-ab178d5a8c12",
   "metadata": {},
   "outputs": [],
   "source": [
    "import numpy as np\n",
    "\n",
    "image = [[1,1,0],[1,0,1],[0,0,0]]\n",
    "image = [[1,1,0,0],[1,0,0,1],[0,1,1,1],[1,0,1,0]]\n",
    "#image = [1]\n",
    "#image = [0]"
   ]
  },
  {
   "cell_type": "code",
   "execution_count": 53,
   "id": "33a00d8c-da67-4488-b7e2-9cd83df2a2fd",
   "metadata": {},
   "outputs": [
    {
     "name": "stdout",
     "output_type": "stream",
     "text": [
      "[1] <class 'list'>\n"
     ]
    }
   ],
   "source": [
    "image = np.array(image)\n",
    "if len(image)==1:\n",
    "    if image[0]==1: iimage = [0]\n",
    "    elif image[0]==0: iimage = [1]\n",
    "else:\n",
    "    fimage = np.fliplr(image)\n",
    "    iimage = fimage.copy()\n",
    "    for x in range(iimage.shape[0]):\n",
    "        for y in range(iimage.shape[1]):\n",
    "            if iimage[y,x] == 1:\n",
    "                iimage[y,x] = 0\n",
    "            elif iimage[y,x] == 0:\n",
    "                iimage[y,x] = 1\n",
    "    iimage = iimage.tolist()\n",
    "print(iimage,type(iimage))"
   ]
  }
 ],
 "metadata": {
  "kernelspec": {
   "display_name": "Python 3 (ipykernel)",
   "language": "python",
   "name": "python3"
  },
  "language_info": {
   "codemirror_mode": {
    "name": "ipython",
    "version": 3
   },
   "file_extension": ".py",
   "mimetype": "text/x-python",
   "name": "python",
   "nbconvert_exporter": "python",
   "pygments_lexer": "ipython3",
   "version": "3.10.12"
  }
 },
 "nbformat": 4,
 "nbformat_minor": 5
}
