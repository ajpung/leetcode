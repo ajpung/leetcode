{
 "cells": [
  {
   "cell_type": "code",
   "execution_count": 16,
   "id": "291fcfb7-168d-4022-8a0a-e87ab6cb16c6",
   "metadata": {},
   "outputs": [],
   "source": [
    "def isValid(s: str) -> bool:\n",
    "    for i in s:\n",
    "        print('\\n',i)\n",
    "        # If parenthesis, find mate\n",
    "        if i=='(':\n",
    "            r = s.replace('(','',1)\n",
    "            try:\n",
    "                r.find(')')\n",
    "                # Remove both sets\n",
    "                s = s.replace('(','',1).replace(\")\",'',1)\n",
    "                if len(s)==0: return True\n",
    "            except:\n",
    "                return False\n",
    "        elif i=='{':\n",
    "            r = s.replace('{','',1)\n",
    "            try:\n",
    "                r.find('}')\n",
    "                # Remove both sets\n",
    "                s = s.replace('{','',1).replace('}','',1)\n",
    "                if len(s)==0: return True\n",
    "            except:\n",
    "                return False\n",
    "        elif i=='[':\n",
    "            r = s.replace('[','',1)\n",
    "            try:\n",
    "                r.find(']')\n",
    "                # Remove both sets\n",
    "                s = s.replace('[','',1).replace(']','',1)\n",
    "                if len(s)==0: return True\n",
    "            except:\n",
    "                return False\n",
    "        elif i=='\n",
    "        "
   ]
  },
  {
   "cell_type": "code",
   "execution_count": 17,
   "id": "b2ebc953-424b-4f33-a5f9-7db1ef10a101",
   "metadata": {},
   "outputs": [
    {
     "name": "stdout",
     "output_type": "stream",
     "text": [
      "\n",
      " (\n",
      "\n",
      " )\n",
      "\n",
      " [\n",
      "\n",
      " ]\n",
      "\n",
      " {\n"
     ]
    },
    {
     "data": {
      "text/plain": [
       "True"
      ]
     },
     "execution_count": 17,
     "metadata": {},
     "output_type": "execute_result"
    }
   ],
   "source": [
    "s = \"()[]{}\"\n",
    "isValid(s)"
   ]
  }
 ],
 "metadata": {
  "kernelspec": {
   "display_name": "Python 3 (ipykernel)",
   "language": "python",
   "name": "python3"
  },
  "language_info": {
   "codemirror_mode": {
    "name": "ipython",
    "version": 3
   },
   "file_extension": ".py",
   "mimetype": "text/x-python",
   "name": "python",
   "nbconvert_exporter": "python",
   "pygments_lexer": "ipython3",
   "version": "3.10.12"
  }
 },
 "nbformat": 4,
 "nbformat_minor": 5
}
