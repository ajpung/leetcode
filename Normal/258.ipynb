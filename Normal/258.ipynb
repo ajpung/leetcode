{
 "cells": [
  {
   "cell_type": "code",
   "execution_count": 52,
   "id": "aa8d3ae3-9257-47d4-8870-462f39f7f423",
   "metadata": {},
   "outputs": [],
   "source": [
    "nums = [0]\n",
    "# nums = [3,0,1]\n",
    "# nums = [9,6,4,2,3,5,7,0,1]\n",
    "# nums = [0,1]"
   ]
  },
  {
   "cell_type": "code",
   "execution_count": 53,
   "id": "8ab5e10c-dd14-4201-841e-bef3d4bc20c1",
   "metadata": {},
   "outputs": [
    {
     "data": {
      "text/plain": [
       "1"
      ]
     },
     "execution_count": 53,
     "metadata": {},
     "output_type": "execute_result"
    }
   ],
   "source": [
    "allno = list(range(0, len(nums) + 1))\n",
    "missno = [x for x in allno if x not in nums][0]\n",
    "missno"
   ]
  },
  {
   "cell_type": "code",
   "execution_count": 25,
   "id": "59104f0b-2fc4-4aca-a482-846c0142e197",
   "metadata": {},
   "outputs": [
    {
     "data": {
      "text/plain": [
       "2"
      ]
     },
     "execution_count": 25,
     "metadata": {},
     "output_type": "execute_result"
    }
   ],
   "source": [
    "[x for x in allno if x not in nums][0]"
   ]
  },
  {
   "cell_type": "code",
   "execution_count": null,
   "id": "8f20fe98-744b-4cce-ad6a-682ee046a81d",
   "metadata": {},
   "outputs": [],
   "source": []
  }
 ],
 "metadata": {
  "kernelspec": {
   "display_name": "Python 3 (ipykernel)",
   "language": "python",
   "name": "python3"
  },
  "language_info": {
   "codemirror_mode": {
    "name": "ipython",
    "version": 3
   },
   "file_extension": ".py",
   "mimetype": "text/x-python",
   "name": "python",
   "nbconvert_exporter": "python",
   "pygments_lexer": "ipython3",
   "version": "3.10.12"
  }
 },
 "nbformat": 4,
 "nbformat_minor": 5
}
