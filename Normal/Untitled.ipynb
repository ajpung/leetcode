{
 "cells": [
  {
   "cell_type": "code",
   "execution_count": 15,
   "id": "d00dc82a-1476-44b2-9e9f-e4e41113d1f4",
   "metadata": {},
   "outputs": [],
   "source": [
    "s = \"abc\"; t=\"bac\"\n",
    "s = \"abcde\"; t = \"edbac\"\n",
    "s = \"leetcode\"; t = \"eotelecd\""
   ]
  },
  {
   "cell_type": "code",
   "execution_count": 16,
   "id": "d8687e4e-ebe1-4045-bb02-3fb246d5526e",
   "metadata": {},
   "outputs": [
    {
     "name": "stdout",
     "output_type": "stream",
     "text": [
      "22\n"
     ]
    }
   ],
   "source": [
    "idx_sum = 0\n",
    "for i in range(len(s)):\n",
    "    idx_sum += abs(t.find(s[i])-i)\n",
    "print(idx_sum)"
   ]
  },
  {
   "cell_type": "code",
   "execution_count": null,
   "id": "d8ace05d-c5b0-4439-aff0-591198a21022",
   "metadata": {},
   "outputs": [],
   "source": []
  }
 ],
 "metadata": {
  "kernelspec": {
   "display_name": "Python 3 (ipykernel)",
   "language": "python",
   "name": "python3"
  },
  "language_info": {
   "codemirror_mode": {
    "name": "ipython",
    "version": 3
   },
   "file_extension": ".py",
   "mimetype": "text/x-python",
   "name": "python",
   "nbconvert_exporter": "python",
   "pygments_lexer": "ipython3",
   "version": "3.10.12"
  }
 },
 "nbformat": 4,
 "nbformat_minor": 5
}
