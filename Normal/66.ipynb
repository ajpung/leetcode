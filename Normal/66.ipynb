{
 "cells": [
  {
   "cell_type": "code",
   "execution_count": 29,
   "id": "aabe59e6-03d1-4844-97e5-661340bdfe6e",
   "metadata": {},
   "outputs": [],
   "source": [
    "# digits = [1,2,3]\n",
    "digits = [9, 9]"
   ]
  },
  {
   "cell_type": "code",
   "execution_count": 30,
   "id": "7b5743ec-5608-4d6c-a13c-f144a51f1b3e",
   "metadata": {},
   "outputs": [
    {
     "data": {
      "text/plain": [
       "[1, 0, 0]"
      ]
     },
     "execution_count": 30,
     "metadata": {},
     "output_type": "execute_result"
    }
   ],
   "source": [
    "numstr = \"\".join(str(x) for x in digits)\n",
    "numnum = int(numstr) + 1\n",
    "[int(x) for x in str(numnum)]\n",
    "# if digits[-1]<9: digits[-1] += 1\n",
    "# else:\n",
    "#    digits[-1]=1\n",
    "#    digits += [0]\n",
    "# print(digits)"
   ]
  },
  {
   "cell_type": "code",
   "execution_count": null,
   "id": "b34b8e99-13a4-45c3-9edb-8c549105ad06",
   "metadata": {},
   "outputs": [],
   "source": []
  },
  {
   "cell_type": "code",
   "execution_count": 9,
   "id": "98c5a7d7-f57d-40e4-b724-a069524a15d8",
   "metadata": {},
   "outputs": [],
   "source": [
    "n = 243\n",
    "# n = 531440"
   ]
  },
  {
   "cell_type": "code",
   "execution_count": 12,
   "id": "00af97d6-7468-47b0-a757-ce10d57c44f9",
   "metadata": {},
   "outputs": [
    {
     "data": {
      "text/plain": [
       "True"
      ]
     },
     "execution_count": 12,
     "metadata": {},
     "output_type": "execute_result"
    }
   ],
   "source": [
    "import math\n",
    "\n",
    "# if n<0:\n",
    "#    return False\n",
    "# elif n==0:\n",
    "#    return False\n",
    "# elif n==1:\n",
    "#    return True\n",
    "# else:\n",
    "round(math.log(n, 3), 10).is_integer()"
   ]
  },
  {
   "cell_type": "code",
   "execution_count": null,
   "id": "88e275e1-7005-448e-8b26-eda85a6e94f7",
   "metadata": {},
   "outputs": [],
   "source": []
  }
 ],
 "metadata": {
  "kernelspec": {
   "display_name": "Python 3 (ipykernel)",
   "language": "python",
   "name": "python3"
  },
  "language_info": {
   "codemirror_mode": {
    "name": "ipython",
    "version": 3
   },
   "file_extension": ".py",
   "mimetype": "text/x-python",
   "name": "python",
   "nbconvert_exporter": "python",
   "pygments_lexer": "ipython3",
   "version": "3.10.12"
  }
 },
 "nbformat": 4,
 "nbformat_minor": 5
}
