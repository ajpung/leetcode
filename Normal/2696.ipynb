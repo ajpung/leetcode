{
 "cells": [
  {
   "cell_type": "code",
   "execution_count": 5,
   "id": "3ae3d19b-2148-48f7-bb1f-da9949f6eba6",
   "metadata": {},
   "outputs": [],
   "source": [
    "s = \"ABFCACDB\"\n",
    "s = \"ACBBD\""
   ]
  },
  {
   "cell_type": "code",
   "execution_count": 7,
   "id": "88e5ca4a-dd00-462f-afa1-6d0f01b77123",
   "metadata": {},
   "outputs": [
    {
     "name": "stdout",
     "output_type": "stream",
     "text": [
      "5\n"
     ]
    }
   ],
   "source": [
    "while \"AB\" in s or \"CD\" in s:\n",
    "    s = s.replace(\"AB\", \"\").replace(\"CD\", \"\")\n",
    "print(len(s))"
   ]
  },
  {
   "cell_type": "code",
   "execution_count": null,
   "id": "ab76b256-cc19-42f3-aeba-5e85e325e995",
   "metadata": {},
   "outputs": [],
   "source": []
  }
 ],
 "metadata": {
  "kernelspec": {
   "display_name": "Python 3 (ipykernel)",
   "language": "python",
   "name": "python3"
  },
  "language_info": {
   "codemirror_mode": {
    "name": "ipython",
    "version": 3
   },
   "file_extension": ".py",
   "mimetype": "text/x-python",
   "name": "python",
   "nbconvert_exporter": "python",
   "pygments_lexer": "ipython3",
   "version": "3.10.12"
  }
 },
 "nbformat": 4,
 "nbformat_minor": 5
}
