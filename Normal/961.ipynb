{
 "cells": [
  {
   "cell_type": "code",
   "execution_count": 12,
   "id": "52d7ae35-6e02-4e6a-bf49-61ef55eb4c66",
   "metadata": {},
   "outputs": [],
   "source": [
    "import numpy as np\n",
    "\n",
    "nums = [1, 2, 3, 3]\n",
    "nums = [2, 1, 2, 5, 3, 2]\n",
    "nums = [5, 1, 5, 2, 5, 3, 5, 4]"
   ]
  },
  {
   "cell_type": "code",
   "execution_count": 13,
   "id": "90dd730c-10f9-41b8-a96a-017a2cb27cd1",
   "metadata": {},
   "outputs": [
    {
     "name": "stdout",
     "output_type": "stream",
     "text": [
      "5\n"
     ]
    }
   ],
   "source": [
    "for i in nums:\n",
    "    if nums.count(i) == int(len(nums) / 2):\n",
    "        print(i)\n",
    "        break"
   ]
  },
  {
   "cell_type": "code",
   "execution_count": null,
   "id": "19ab6589-9b52-4302-a58e-fdd3ace47eb1",
   "metadata": {},
   "outputs": [],
   "source": []
  }
 ],
 "metadata": {
  "kernelspec": {
   "display_name": "Python 3 (ipykernel)",
   "language": "python",
   "name": "python3"
  },
  "language_info": {
   "codemirror_mode": {
    "name": "ipython",
    "version": 3
   },
   "file_extension": ".py",
   "mimetype": "text/x-python",
   "name": "python",
   "nbconvert_exporter": "python",
   "pygments_lexer": "ipython3",
   "version": "3.10.12"
  }
 },
 "nbformat": 4,
 "nbformat_minor": 5
}
