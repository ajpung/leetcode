{
 "cells": [
  {
   "cell_type": "code",
   "execution_count": 22,
   "id": "21afe6c4-731a-4c34-95bc-b51e80983c3d",
   "metadata": {},
   "outputs": [],
   "source": [
    "code = [5,7,1,4]; k = 3"
   ]
  },
  {
   "cell_type": "code",
   "execution_count": 24,
   "id": "82df1e1b-af06-4b0a-8e61-07a06c603cb8",
   "metadata": {},
   "outputs": [
    {
     "name": "stdout",
     "output_type": "stream",
     "text": [
      "0 0 3\n",
      "1 1 0\n",
      "2 2 1\n",
      "3 3 2\n",
      "[]\n"
     ]
    }
   ],
   "source": [
    "import numpy as np\n",
    "\n",
    "if k == 0:\n",
    "    newcode = np.zeros(len(code))\n",
    "else:\n",
    "    iters = int(np.ceil(100/len(code)))    \n",
    "    wcode = iters*code\n",
    "if k>0:\n",
    "    newcode = []\n",
    "    for i in range(len(code)):\n",
    "        start = i%len(code)\n",
    "    #    end = (start + k)%len(code)\n",
    "    #    #newcode += [np.sum(code[start:end])]\n",
    "    #    print(i,start,end)\n",
    "#elif k<0:\n",
    "    \n",
    "\n",
    "print(newcode)\n",
    "    "
   ]
  },
  {
   "cell_type": "code",
   "execution_count": 28,
   "id": "599d2491-fc69-44a8-9b4c-c0e8653abd67",
   "metadata": {},
   "outputs": [
    {
     "name": "stdout",
     "output_type": "stream",
     "text": [
      "[5, 7, 1, 4, 5, 7, 1, 4, 5, 7, 1, 4, 5, 7, 1, 4, 5, 7, 1, 4, 5, 7, 1, 4, 5, 7, 1, 4, 5, 7, 1, 4, 5, 7, 1, 4, 5, 7, 1, 4, 5, 7, 1, 4, 5, 7, 1, 4, 5, 7, 1, 4, 5, 7, 1, 4, 5, 7, 1, 4, 5, 7, 1, 4, 5, 7, 1, 4, 5, 7, 1, 4, 5, 7, 1, 4, 5, 7, 1, 4, 5, 7, 1, 4, 5, 7, 1, 4, 5, 7, 1, 4, 5, 7, 1, 4, 5, 7, 1, 4]\n"
     ]
    }
   ],
   "source": [
    "int(np.ceil(100/len(code)))\n",
    "print(25*code)\n"
   ]
  },
  {
   "cell_type": "code",
   "execution_count": null,
   "id": "3284a93f-cf7f-46dc-8611-2c18601b152b",
   "metadata": {},
   "outputs": [],
   "source": []
  }
 ],
 "metadata": {
  "kernelspec": {
   "display_name": "Python 3 (ipykernel)",
   "language": "python",
   "name": "python3"
  },
  "language_info": {
   "codemirror_mode": {
    "name": "ipython",
    "version": 3
   },
   "file_extension": ".py",
   "mimetype": "text/x-python",
   "name": "python",
   "nbconvert_exporter": "python",
   "pygments_lexer": "ipython3",
   "version": "3.10.12"
  }
 },
 "nbformat": 4,
 "nbformat_minor": 5
}
