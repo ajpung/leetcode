{
 "cells": [
  {
   "cell_type": "code",
   "execution_count": 5,
   "id": "68606825-cbfa-4952-9762-300bab46ec42",
   "metadata": {},
   "outputs": [
    {
     "name": "stdout",
     "output_type": "stream",
     "text": [
      "[0, 0, 1, 1, 1, 2, 2, 3, 3, 4]\n",
      "[0, 1, 2, 3, 4]\n",
      "[0, 1, 2, 3, 4, 0, 0, 0, 0, 0]\n"
     ]
    }
   ],
   "source": [
    "nums = [0,0,1,1,1,2,2,3,3,4]\n",
    "\n",
    "unqnum = list(set(nums))\n",
    "print(nums)\n",
    "print(unqnum)\n",
    "lendif = len(nums)-len(unqnum)\n",
    "temp3 = [0]*lendif\n",
    "print(unqnum+temp3)\n",
    "#for element in unqnum:\n",
    "#    if element not in nums:\n",
    "#        temp3.append(element)\n",
    "\n",
    "#print(temp3)"
   ]
  },
  {
   "cell_type": "code",
   "execution_count": null,
   "id": "cbe1419a-9e70-4030-8ee2-03fe1b2b98ca",
   "metadata": {},
   "outputs": [],
   "source": []
  }
 ],
 "metadata": {
  "kernelspec": {
   "display_name": "Python 3 (ipykernel)",
   "language": "python",
   "name": "python3"
  },
  "language_info": {
   "codemirror_mode": {
    "name": "ipython",
    "version": 3
   },
   "file_extension": ".py",
   "mimetype": "text/x-python",
   "name": "python",
   "nbconvert_exporter": "python",
   "pygments_lexer": "ipython3",
   "version": "3.10.12"
  }
 },
 "nbformat": 4,
 "nbformat_minor": 5
}
