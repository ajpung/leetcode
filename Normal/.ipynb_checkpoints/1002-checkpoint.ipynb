{
 "cells": [
  {
   "cell_type": "code",
   "execution_count": 27,
   "id": "e24124aa-97b4-4abd-ae85-b64891dacb08",
   "metadata": {},
   "outputs": [],
   "source": [
    "#words = [\"bella\",\"label\",\"roller\"]\n",
    "words = [\"cool\",\"lock\",\"cook\"]"
   ]
  },
  {
   "cell_type": "code",
   "execution_count": 32,
   "id": "c10b2cec-6244-46ce-bc9b-b808444db13e",
   "metadata": {},
   "outputs": [
    {
     "name": "stdout",
     "output_type": "stream",
     "text": [
      "['c', 'o', 'o']\n"
     ]
    }
   ],
   "source": [
    "common = []\n",
    "for i in words[0]:\n",
    "    if all([i in set(x) for x in words]):\n",
    "        common.append(i)\n",
    "print(common)"
   ]
  },
  {
   "cell_type": "code",
   "execution_count": 31,
   "id": "9a76ae55-6e9d-4ae8-bae3-29691a687700",
   "metadata": {},
   "outputs": [
    {
     "data": {
      "text/plain": [
       "[]"
      ]
     },
     "execution_count": 31,
     "metadata": {},
     "output_type": "execute_result"
    }
   ],
   "source": [
    "[w for w in words[0] if w in words[1:]]"
   ]
  },
  {
   "cell_type": "code",
   "execution_count": null,
   "id": "85f80d63-7bb4-484a-9ffe-38edd8ee7625",
   "metadata": {},
   "outputs": [],
   "source": []
  }
 ],
 "metadata": {
  "kernelspec": {
   "display_name": "Python 3 (ipykernel)",
   "language": "python",
   "name": "python3"
  },
  "language_info": {
   "codemirror_mode": {
    "name": "ipython",
    "version": 3
   },
   "file_extension": ".py",
   "mimetype": "text/x-python",
   "name": "python",
   "nbconvert_exporter": "python",
   "pygments_lexer": "ipython3",
   "version": "3.10.12"
  }
 },
 "nbformat": 4,
 "nbformat_minor": 5
}
