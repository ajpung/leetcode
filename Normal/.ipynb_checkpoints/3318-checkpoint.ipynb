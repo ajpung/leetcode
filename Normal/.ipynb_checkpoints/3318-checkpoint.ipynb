{
 "cells": [
  {
   "cell_type": "code",
   "execution_count": 31,
   "id": "8774ff7f-613e-499b-aa33-a0da4e413436",
   "metadata": {},
   "outputs": [],
   "source": [
    "nums = [1,1,2,2,3,4,2,3]; k = 6; x = 2\n",
    "nums = [3,8,7,8,7,5]; k = 2; x = 2"
   ]
  },
  {
   "cell_type": "code",
   "execution_count": 32,
   "id": "c3e16c45-3e33-466e-9999-8502a5437d5a",
   "metadata": {},
   "outputs": [
    {
     "name": "stdout",
     "output_type": "stream",
     "text": [
      "[30, 30, 22, 15, 12]\n"
     ]
    }
   ],
   "source": [
    "# Set sliding window\n",
    "num_windows = len(nums)-k+1\n",
    "out_vals = []\n",
    "for i in range(num_windows):\n",
    "    # Isolate window\n",
    "    window = nums[i:i+6]\n",
    "    # Find unique values with occurence > 2\n",
    "    u_wndw = set(window)\n",
    "    u_cnts = [window.count(x) for x in u_wndw]\n",
    "    # Group unique elements and their counts\n",
    "    allcnts = list(zip(u_wndw,u_cnts))\n",
    "    # Sort by most common elements\n",
    "    srtcnts = sorted(allcnts, key=lambda x: (x[1],x[0]),reverse=True)\n",
    "    # Keep only top `x` values\n",
    "    remcnts = srtcnts[:x]\n",
    "    # Find product of top X elements    \n",
    "    prodval = 0\n",
    "    for j in range(len(remcnts)):\n",
    "        prodval += remcnts[j][0]*remcnts[j][1]\n",
    "    out_vals += [prodval]\n",
    "\n",
    "print(out_vals)"
   ]
  },
  {
   "cell_type": "code",
   "execution_count": null,
   "id": "af8047b8-8ddf-4902-99f5-7917d84a2c17",
   "metadata": {},
   "outputs": [],
   "source": []
  }
 ],
 "metadata": {
  "kernelspec": {
   "display_name": "Python 3 (ipykernel)",
   "language": "python",
   "name": "python3"
  },
  "language_info": {
   "codemirror_mode": {
    "name": "ipython",
    "version": 3
   },
   "file_extension": ".py",
   "mimetype": "text/x-python",
   "name": "python",
   "nbconvert_exporter": "python",
   "pygments_lexer": "ipython3",
   "version": "3.10.12"
  }
 },
 "nbformat": 4,
 "nbformat_minor": 5
}
