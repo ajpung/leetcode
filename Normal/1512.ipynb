{
 "cells": [
  {
   "cell_type": "code",
   "execution_count": 45,
   "id": "1bda9a90-01c2-4973-84b7-1b771c345e5f",
   "metadata": {},
   "outputs": [],
   "source": [
    "nums = [4,1,2,1,2]\n",
    "nums = [1]\n",
    "nums = [2,2,1]\n",
    "nums = [-3,-2,-1,0,-1,-2,-3,0,-1,2,-3,-1,-3]"
   ]
  },
  {
   "cell_type": "code",
   "execution_count": 46,
   "id": "69efa491-32d5-4d35-8edf-a349de67b5fb",
   "metadata": {},
   "outputs": [
    {
     "name": "stdout",
     "output_type": "stream",
     "text": [
      "2\n"
     ]
    }
   ],
   "source": [
    "for x in set(nums):\n",
    "    if nums.count(x)==1:\n",
    "        print(x)"
   ]
  },
  {
   "cell_type": "code",
   "execution_count": 37,
   "id": "428fcdcc-d399-4343-9261-1d371d50f7b4",
   "metadata": {},
   "outputs": [
    {
     "data": {
      "text/plain": [
       "{1, 2, 4}"
      ]
     },
     "execution_count": 37,
     "metadata": {},
     "output_type": "execute_result"
    }
   ],
   "source": [
    "set(nums)"
   ]
  },
  {
   "cell_type": "code",
   "execution_count": null,
   "id": "809b7f22-969e-408e-880c-673ffb08070d",
   "metadata": {},
   "outputs": [],
   "source": []
  }
 ],
 "metadata": {
  "kernelspec": {
   "display_name": "Python 3 (ipykernel)",
   "language": "python",
   "name": "python3"
  },
  "language_info": {
   "codemirror_mode": {
    "name": "ipython",
    "version": 3
   },
   "file_extension": ".py",
   "mimetype": "text/x-python",
   "name": "python",
   "nbconvert_exporter": "python",
   "pygments_lexer": "ipython3",
   "version": "3.10.12"
  }
 },
 "nbformat": 4,
 "nbformat_minor": 5
}
