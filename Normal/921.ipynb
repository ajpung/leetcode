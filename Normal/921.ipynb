{
 "cells": [
  {
   "cell_type": "code",
   "execution_count": 22,
   "id": "c0184d25-6f0b-4a4d-8abc-1d88628d1949",
   "metadata": {},
   "outputs": [],
   "source": [
    "s = \"())\"\n",
    "# s = \"(((\"\n",
    "# s = \"()()()()()()()()()()()()()()()()()()()()()()()()()()()()()()()()()()()()()()()()()()()()()\"\n",
    "s = \"))))))))))))))))))))))))))))))))))))))()))))))))))))))))))))))))))))))))))))))))))))))))))\"\n",
    "s = \"()))((\""
   ]
  },
  {
   "cell_type": "code",
   "execution_count": 23,
   "id": "4ed65e2c-6e7e-408a-80ba-359f407b8705",
   "metadata": {},
   "outputs": [
    {
     "name": "stdout",
     "output_type": "stream",
     "text": [
      "0\n"
     ]
    }
   ],
   "source": [
    "# uniq = set([x for x in s])\n",
    "each = [s.count(x) for x in [\"(\", \")\"]]\n",
    "need = abs(each[1] - each[0])\n",
    "print(need)"
   ]
  },
  {
   "cell_type": "code",
   "execution_count": 7,
   "id": "122fb04a-f95f-4ddf-80cd-87d2bb6b2a9e",
   "metadata": {},
   "outputs": [
    {
     "data": {
      "text/plain": [
       "1"
      ]
     },
     "execution_count": 7,
     "metadata": {},
     "output_type": "execute_result"
    }
   ],
   "source": [
    "abs(each[1] - each[0])"
   ]
  },
  {
   "cell_type": "code",
   "execution_count": null,
   "id": "8b0cb638-4dfd-4d19-a7f4-27379a2b843b",
   "metadata": {},
   "outputs": [],
   "source": []
  }
 ],
 "metadata": {
  "kernelspec": {
   "display_name": "Python 3 (ipykernel)",
   "language": "python",
   "name": "python3"
  },
  "language_info": {
   "codemirror_mode": {
    "name": "ipython",
    "version": 3
   },
   "file_extension": ".py",
   "mimetype": "text/x-python",
   "name": "python",
   "nbconvert_exporter": "python",
   "pygments_lexer": "ipython3",
   "version": "3.10.12"
  }
 },
 "nbformat": 4,
 "nbformat_minor": 5
}
