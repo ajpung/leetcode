{
 "cells": [
  {
   "cell_type": "code",
   "execution_count": 49,
   "id": "94e966e6-0a41-4867-b2af-62bc5f69fdfa",
   "metadata": {},
   "outputs": [],
   "source": [
    "str1 = \"ABCABC\"\n",
    "str2 = \"ABC\"\n",
    "# str1 = \"ABABAB\"; str2 = \"ABAB\"\n",
    "# str1 = \"LEET\"; str2 = \"CODE\"\n",
    "# str1 = \"COD\"; str2 = \"CODERS\"\n",
    "# str1 = \"CODERS\"; str2 = \"CODERS\""
   ]
  },
  {
   "cell_type": "code",
   "execution_count": 55,
   "id": "e0f0b77a-73c2-45d3-90d5-e8af6dad14de",
   "metadata": {},
   "outputs": [
    {
     "name": "stdout",
     "output_type": "stream",
     "text": [
      "\n"
     ]
    }
   ],
   "source": [
    "str1_cnt = \"\"\n",
    "\n",
    "if len(str1) < len(str2):\n",
    "    srch_str, comp_str = str1, str2\n",
    "else:\n",
    "    srch_str, comp_str = str2, str1\n",
    "\n",
    "for i in range(len(str1)):\n",
    "    if comp_str.count(srch_str[0:i]) >= 1 and srch_str.count(srch_str[0:i]) > 1:\n",
    "        longstr = str1[0:i]\n",
    "    # if str1.count(str1[0:i])==1:\n",
    "    # longstr = str1[0:i]\n",
    "    # if str2.count(str1[0:i])>=1:\n",
    "    # print(str1[0:i])\n",
    "    # print(str1.count(str1[0:i]))\n",
    "    # longstr = str1[0:i]\n",
    "print(longstr)"
   ]
  },
  {
   "cell_type": "code",
   "execution_count": 53,
   "id": "b6281959-a60c-4abf-b9ed-2b9d0f2f10de",
   "metadata": {},
   "outputs": [],
   "source": [
    "# if len(str1)<len(str2):\n",
    "#    srch_str,comp_str = str1,str2\n",
    "# else:\n",
    "#    srch_str,comp_str = str2,str1\n",
    "\n",
    "# longstr = ''\n",
    "# for i in range(len(srch_str)):\n",
    "#    if"
   ]
  },
  {
   "cell_type": "code",
   "execution_count": 31,
   "id": "75d30d4b-7e5a-4d56-a081-142db8d22a66",
   "metadata": {},
   "outputs": [
    {
     "data": {
      "text/plain": [
       "0"
      ]
     },
     "execution_count": 31,
     "metadata": {},
     "output_type": "execute_result"
    }
   ],
   "source": [
    "\"AAA\".count(\"CCC\")"
   ]
  },
  {
   "cell_type": "code",
   "execution_count": null,
   "id": "746fdc27-dbf5-43c1-a9f9-dee5d3a89715",
   "metadata": {},
   "outputs": [],
   "source": []
  }
 ],
 "metadata": {
  "kernelspec": {
   "display_name": "Python 3 (ipykernel)",
   "language": "python",
   "name": "python3"
  },
  "language_info": {
   "codemirror_mode": {
    "name": "ipython",
    "version": 3
   },
   "file_extension": ".py",
   "mimetype": "text/x-python",
   "name": "python",
   "nbconvert_exporter": "python",
   "pygments_lexer": "ipython3",
   "version": "3.10.12"
  }
 },
 "nbformat": 4,
 "nbformat_minor": 5
}
