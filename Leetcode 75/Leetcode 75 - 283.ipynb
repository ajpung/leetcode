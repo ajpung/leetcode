{
 "cells": [
  {
   "cell_type": "code",
   "execution_count": 123,
   "id": "6c79aa15-86a9-4de4-9d24-890d892f7088",
   "metadata": {},
   "outputs": [],
   "source": [
    "nums = [0, 1, 0, 3, 12]\n",
    "nums = [0, 0, 1]"
   ]
  },
  {
   "cell_type": "code",
   "execution_count": 125,
   "id": "6b26a39a-b0ad-4da0-a3c7-456b799272f0",
   "metadata": {},
   "outputs": [
    {
     "name": "stdout",
     "output_type": "stream",
     "text": [
      "-3 [0, 1, 0] 0\n",
      "-2 [0, 0, 0] 0\n",
      "-1 [0, 0, 0] 0\n"
     ]
    }
   ],
   "source": [
    "for i in range(-len(nums), 0):\n",
    "    print(i, nums, nums[i])\n",
    "    if nums[i] == 0:\n",
    "        nums.append(0)\n",
    "        nums.pop(i)\n",
    "        # nums.remove(i)\n",
    "    # else:\n",
    "    #    nums=nums"
   ]
  },
  {
   "cell_type": "code",
   "execution_count": null,
   "id": "e9ca9d36-e85a-40bf-9346-1ffab383e75d",
   "metadata": {},
   "outputs": [],
   "source": []
  }
 ],
 "metadata": {
  "kernelspec": {
   "display_name": "Python 3 (ipykernel)",
   "language": "python",
   "name": "python3"
  },
  "language_info": {
   "codemirror_mode": {
    "name": "ipython",
    "version": 3
   },
   "file_extension": ".py",
   "mimetype": "text/x-python",
   "name": "python",
   "nbconvert_exporter": "python",
   "pygments_lexer": "ipython3",
   "version": "3.10.12"
  }
 },
 "nbformat": 4,
 "nbformat_minor": 5
}
