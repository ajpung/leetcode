{
 "cells": [
  {
   "cell_type": "code",
   "execution_count": 36,
   "id": "c65d8382-3bbc-4dc8-9aab-58e26ddba167",
   "metadata": {},
   "outputs": [],
   "source": [
    "flowerbed = [1, 0, 0, 0, 1]\n",
    "n = 1\n",
    "flowerbed = [0, 0, 1, 0, 1]\n",
    "n = 1\n",
    "flowerbed = [1, 0, 1, 0, 0]\n",
    "n = 1\n",
    "flowerbed = [1, 0, 1, 0, 0, 0]\n",
    "n = 1\n",
    "flowerbed = [1, 0, 1, 0, 0, 0]\n",
    "n = 2\n",
    "flowerbed = [1, 0, 1, 0, 0, 0, 0, 1, 0, 1, 0, 1, 0, 1, 0, 1, 0, 0, 0, 0, 0, 0, 0]\n",
    "# flowerbed = [1,0,1,0,X,0,0,1,0,1,0,1,0,1,0,1,0,X,0,X,0,X,0]\n",
    "n = 4"
   ]
  },
  {
   "cell_type": "code",
   "execution_count": 37,
   "id": "080dd543-cc40-42d7-ae54-d43e2cb85704",
   "metadata": {},
   "outputs": [
    {
     "name": "stdout",
     "output_type": "stream",
     "text": [
      "False\n"
     ]
    }
   ],
   "source": [
    "fs = \"\".join([str(x) for x in flowerbed])\n",
    "if fs[0] == \"0\" or fs[-1] == \"0\":\n",
    "    ss = \"0\" * (n * 2)\n",
    "    print(ss in fs)\n",
    "else:\n",
    "    ss = \"0\" * (n * 2 + 1)\n",
    "    print(ss in fs)"
   ]
  },
  {
   "cell_type": "markdown",
   "id": "c05d426f-d3ae-42bd-81a1-3c28a679c1f6",
   "metadata": {},
   "source": [
    "n = 1; need 3 (10001)\n",
    "n = 2; need 5 (1000001)\n",
    "n = 3; need 7 (101010101 from 100000001)\n",
    "   n*2+1"
   ]
  }
 ],
 "metadata": {
  "kernelspec": {
   "display_name": "Python 3 (ipykernel)",
   "language": "python",
   "name": "python3"
  },
  "language_info": {
   "codemirror_mode": {
    "name": "ipython",
    "version": 3
   },
   "file_extension": ".py",
   "mimetype": "text/x-python",
   "name": "python",
   "nbconvert_exporter": "python",
   "pygments_lexer": "ipython3",
   "version": "3.10.12"
  }
 },
 "nbformat": 4,
 "nbformat_minor": 5
}
