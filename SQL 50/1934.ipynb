{
 "cells": [
  {
   "cell_type": "code",
   "execution_count": 38,
   "id": "d48f472f-caad-466b-906d-8e2d38d014e8",
   "metadata": {},
   "outputs": [],
   "source": [
    "import pandas as pd\n",
    "from datetime import datetime\n",
    "\n",
    "sdata = {\n",
    "    \"user_id\": [3, 7, 2, 6],\n",
    "    \"time_stamp\": [\n",
    "        datetime(2020, 3, 21, 10, 16, 13),\n",
    "        datetime(2020, 1, 4, 13, 57, 59),\n",
    "        datetime(2020, 7, 29, 23, 9, 44),\n",
    "        datetime(2020, 12, 9, 10, 39, 37),\n",
    "    ],\n",
    "}\n",
    "\n",
    "cdata = {\n",
    "    \"user_id\": [3, 3, 7, 7, 7, 2, 2],\n",
    "    \"time_stamp\": [\n",
    "        datetime(2021, 1, 6, 3, 30, 46),\n",
    "        datetime(2021, 7, 14, 14, 0, 0),\n",
    "        datetime(2021, 6, 12, 11, 57, 29),\n",
    "        datetime(2021, 6, 13, 12, 58, 28),\n",
    "        datetime(2021, 6, 14, 13, 59, 27),\n",
    "        datetime(2021, 1, 22, 0, 0, 0),\n",
    "        datetime(2021, 2, 28, 23, 59, 59),\n",
    "    ],\n",
    "    \"action\": [\n",
    "        \"timeout\",\n",
    "        \"timeout\",\n",
    "        \"confirmed\",\n",
    "        \"confirmed\",\n",
    "        \"confirmed\",\n",
    "        \"confirmed\",\n",
    "        \"timeout\",\n",
    "    ],\n",
    "}\n",
    "\n",
    "signups = pd.DataFrame(sdata)\n",
    "confirmations = pd.DataFrame(cdata)"
   ]
  },
  {
   "cell_type": "code",
   "execution_count": 46,
   "id": "53162271-e30c-4bdd-85a4-8d4338ebbd3e",
   "metadata": {},
   "outputs": [
    {
     "name": "stdout",
     "output_type": "stream",
     "text": [
      "[2, 3, 6, 7]\n",
      "[0.5, 0.5, 0.0, 0.0, 1.0]\n"
     ]
    }
   ],
   "source": [
    "merged = pd.merge(signups, confirmations, how=\"outer\", on=\"user_id\")\n",
    "merged = merged.fillna(\"n/a\").drop(columns=[\"time_stamp_x\", \"time_stamp_y\"])\n",
    "merged = merged.groupby(\"user_id\")[\"action\"].value_counts().reset_index()\n",
    "\n",
    "crate = []\n",
    "for u in merged[\"user_id\"]:\n",
    "    # Isolate dataframe\n",
    "    cdf = merged[merged[\"user_id\"] == u]\n",
    "    total = 0\n",
    "    # Count confirmed cases for each user\n",
    "    if \"confirmed\" in list(cdf[\"action\"]):\n",
    "        pos = cdf[cdf[\"action\"] == \"confirmed\"][\"count\"].iloc[0]\n",
    "    else:\n",
    "        pos = 0\n",
    "    total += pos\n",
    "    # Count timeout cases for each user\n",
    "    if \"timeout\" in list(cdf[\"action\"]):\n",
    "        neg = int(cdf[cdf[\"action\"] == \"timeout\"][\"count\"].iloc[0])\n",
    "    else:\n",
    "        neg = 0\n",
    "    total += neg\n",
    "    # Append confirmation rate\n",
    "    if (pos == 0) & (neg == 0):\n",
    "        crate += [0.00]\n",
    "    else:\n",
    "        crate += [round(pos / total, 2)]\n",
    "\n",
    "print(list(set(merged[\"user_id\"])))\n",
    "print(crate)\n",
    "\n",
    "# sol = pd.DataFrame({'user_id':list(set(merged['user_id'])),\n",
    "#                    'confirmation_rate':crate})\n",
    "\n",
    "# print(sol)\n",
    "\n",
    "\n",
    "#'timeout' in list(cdf['action'])\n",
    "# int(cdf[cdf['action']=='timeout']['count'].iloc[0])"
   ]
  },
  {
   "cell_type": "code",
   "execution_count": null,
   "id": "bd466a99-b47e-455b-8c65-fe4af9b7b8c3",
   "metadata": {},
   "outputs": [],
   "source": [
    "merged"
   ]
  },
  {
   "cell_type": "code",
   "execution_count": null,
   "id": "c91f545f-3665-4b6a-aea8-aeb240499ebc",
   "metadata": {},
   "outputs": [],
   "source": []
  }
 ],
 "metadata": {
  "kernelspec": {
   "display_name": "Python 3 (ipykernel)",
   "language": "python",
   "name": "python3"
  },
  "language_info": {
   "codemirror_mode": {
    "name": "ipython",
    "version": 3
   },
   "file_extension": ".py",
   "mimetype": "text/x-python",
   "name": "python",
   "nbconvert_exporter": "python",
   "pygments_lexer": "ipython3",
   "version": "3.10.12"
  }
 },
 "nbformat": 4,
 "nbformat_minor": 5
}
