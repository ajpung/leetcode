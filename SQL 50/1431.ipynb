{
 "cells": [
  {
   "cell_type": "code",
   "execution_count": 1,
   "id": "d2a35ad4-12bf-413b-ae68-f49d0453a1da",
   "metadata": {},
   "outputs": [],
   "source": [
    "import pandas as pd\n",
    "\n",
    "data = {'employee_id':[1,2,2,3,4,4,4],\n",
    "        'department_id':[1,1,2,3,2,3,4],\n",
    "        'primary_flag':['N','Y','N','N','N','Y','N']}\n",
    "\n",
    "employee = pd.DataFrame(data)"
   ]
  },
  {
   "cell_type": "code",
   "execution_count": 35,
   "id": "dcbababa-5aaa-434f-87f4-5cad042b3e1f",
   "metadata": {},
   "outputs": [
    {
     "name": "stdout",
     "output_type": "stream",
     "text": [
      "[1, 1]\n",
      "[1, 1]\n"
     ]
    }
   ],
   "source": [
    "single_grp = employee.groupby('employee_id').agg({'department_id':'count'}).reset_index().rename(columns={'department_id':'departments'})\n",
    "single_emp = single_grp[single_grp['departments']==1]\n",
    "empid = []\n",
    "depid = []\n",
    "for eid in single_emp['employee_id']:\n",
    "    eid = single_emp['employee_id']\n",
    "    empid += [eid]\n",
    "    depid += [employee[employee['employee_id']==eid].loc[0,'department_id']]\n",
    "\n",
    "print(empid)\n",
    "print(depid)\n",
    "#print(eid)\n",
    "#filtered_df = employee.loc[:, employee.nunique() <2]\n",
    "#filtered_df"
   ]
  },
  {
   "cell_type": "code",
   "execution_count": null,
   "id": "8526e48f-5e17-465c-8d72-d46c896b9900",
   "metadata": {},
   "outputs": [],
   "source": []
  }
 ],
 "metadata": {
  "kernelspec": {
   "display_name": "Python 3 (ipykernel)",
   "language": "python",
   "name": "python3"
  },
  "language_info": {
   "codemirror_mode": {
    "name": "ipython",
    "version": 3
   },
   "file_extension": ".py",
   "mimetype": "text/x-python",
   "name": "python",
   "nbconvert_exporter": "python",
   "pygments_lexer": "ipython3",
   "version": "3.10.12"
  }
 },
 "nbformat": 4,
 "nbformat_minor": 5
}
