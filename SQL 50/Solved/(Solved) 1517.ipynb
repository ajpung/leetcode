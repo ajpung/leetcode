{
 "cells": [
  {
   "cell_type": "code",
   "execution_count": 59,
   "id": "25c0d9a7-b65f-4df5-8000-c9cdafd1fda7",
   "metadata": {},
   "outputs": [],
   "source": [
    "import pandas as pd\n",
    "\n",
    "data = {'user_id':[1,2,3,4,5,6,7,8,9,10],\n",
    "        'name':['Winston','Jonathan','Annabelle','Sally','Marwan','David','Shapiro','Bingo','Johny','Butler'],\n",
    "        'mail':['winston@leetcode.com','jonathanisgreat', 'bella-@leetcode.com', 'sally.come@leetcode.com',\n",
    "                'quarz#2020@leetcode.com','david69@gmail.com','.shapo@leetcode.com','bin@go@leetcode.com',\n",
    "               '123johnny@g.com',' @leetcode.com']}\n",
    "\n",
    "users = pd.DataFrame(data)"
   ]
  },
  {
   "cell_type": "code",
   "execution_count": 60,
   "id": "02d248db-f1fd-4734-827e-6a375d459305",
   "metadata": {
    "scrolled": true
   },
   "outputs": [
    {
     "name": "stdout",
     "output_type": "stream",
     "text": [
      "   user_id       name                     mail\n",
      "0      1.0    Winston     winston@leetcode.com\n",
      "1      3.0  Annabelle      bella-@leetcode.com\n",
      "2      4.0      Sally  sally.come@leetcode.com\n"
     ]
    }
   ],
   "source": [
    "# Build dummy dataframe\n",
    "correct_data = {'user_id':[],'name':[],'mail':[]}\n",
    "correct_df = pd.DataFrame(correct_data)\n",
    "\n",
    "# For each dataframe row\n",
    "for i in range(len(users)):\n",
    "    # Isolate e-mail\n",
    "    a = users.iloc[i].mail\n",
    "    # Can only have one @ symbol\n",
    "    if a.count('@')==1:\n",
    "        # Isolate prefix\n",
    "        prefix,domain = a.split('@')\n",
    "        # Must start with a letter\n",
    "        if prefix[0].isalpha() == True:\n",
    "            # If string contains anything other than letters, digits, underscore, period, and/or dash\n",
    "            if all([x.isalnum() or x in \"_.-\" for x in prefix]):\n",
    "                # If domain mathces\n",
    "                if domain=='leetcode.com':\n",
    "                    cdict = {'user_id': int(users.iloc[i]['user_id']),\n",
    "                             'name': users.iloc[i]['name'],\n",
    "                             'mail': users.iloc[i]['mail']}\n",
    "                    cpdf = pd.DataFrame(cdict,index=[1])\n",
    "                    correct_df = pd.concat([correct_df,cpdf],ignore_index=True)\n",
    "print(correct_df)                    "
   ]
  },
  {
   "cell_type": "code",
   "execution_count": null,
   "id": "4398db19-c826-4d22-95dc-aab7be0d232d",
   "metadata": {},
   "outputs": [],
   "source": []
  }
 ],
 "metadata": {
  "kernelspec": {
   "display_name": "Python 3 (ipykernel)",
   "language": "python",
   "name": "python3"
  },
  "language_info": {
   "codemirror_mode": {
    "name": "ipython",
    "version": 3
   },
   "file_extension": ".py",
   "mimetype": "text/x-python",
   "name": "python",
   "nbconvert_exporter": "python",
   "pygments_lexer": "ipython3",
   "version": "3.10.12"
  }
 },
 "nbformat": 4,
 "nbformat_minor": 5
}
