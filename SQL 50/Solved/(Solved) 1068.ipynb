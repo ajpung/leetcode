{
 "cells": [
  {
   "cell_type": "code",
   "execution_count": 1,
   "id": "a8aff07e-2109-4c4a-b46b-30ac4486bb12",
   "metadata": {},
   "outputs": [],
   "source": [
    "import pandas as pd\n",
    "\n",
    "sdata = {'sale_id':[1,2,7],\n",
    "        'product_id':[100,100,200],\n",
    "        'year':[2008,2009,2011],\n",
    "        'quantity':[10,12,15],\n",
    "        'price':[5000,5000,9000]\n",
    "       }\n",
    "\n",
    "pdata = {'product_id':[100,200,300],\n",
    "         'product_name':['Nokia','Apple','Samsung']\n",
    "        }\n",
    "\n",
    "sales = pd.DataFrame(sdata)\n",
    "product = pd.DataFrame(pdata)"
   ]
  },
  {
   "cell_type": "code",
   "execution_count": 16,
   "id": "da08b69d-07e2-48da-aa09-5502ed2c8f19",
   "metadata": {},
   "outputs": [
    {
     "data": {
      "text/html": [
       "<div>\n",
       "<style scoped>\n",
       "    .dataframe tbody tr th:only-of-type {\n",
       "        vertical-align: middle;\n",
       "    }\n",
       "\n",
       "    .dataframe tbody tr th {\n",
       "        vertical-align: top;\n",
       "    }\n",
       "\n",
       "    .dataframe thead th {\n",
       "        text-align: right;\n",
       "    }\n",
       "</style>\n",
       "<table border=\"1\" class=\"dataframe\">\n",
       "  <thead>\n",
       "    <tr style=\"text-align: right;\">\n",
       "      <th></th>\n",
       "      <th>year</th>\n",
       "      <th>price</th>\n",
       "      <th>product_name</th>\n",
       "    </tr>\n",
       "  </thead>\n",
       "  <tbody>\n",
       "    <tr>\n",
       "      <th>0</th>\n",
       "      <td>2008</td>\n",
       "      <td>5000</td>\n",
       "      <td>Nokia</td>\n",
       "    </tr>\n",
       "    <tr>\n",
       "      <th>1</th>\n",
       "      <td>2009</td>\n",
       "      <td>5000</td>\n",
       "      <td>Nokia</td>\n",
       "    </tr>\n",
       "    <tr>\n",
       "      <th>2</th>\n",
       "      <td>2011</td>\n",
       "      <td>9000</td>\n",
       "      <td>Apple</td>\n",
       "    </tr>\n",
       "  </tbody>\n",
       "</table>\n",
       "</div>"
      ],
      "text/plain": [
       "   year  price product_name\n",
       "0  2008   5000        Nokia\n",
       "1  2009   5000        Nokia\n",
       "2  2011   9000        Apple"
      ]
     },
     "execution_count": 16,
     "metadata": {},
     "output_type": "execute_result"
    }
   ],
   "source": [
    "mergeDF = pd.merge(sales,product,how='outer')\n",
    "smallDF = mergeDF.drop(columns=['sale_id','product_id','quantity']).dropna()\n",
    "smallDF['year'] = smallDF['year'].astype('Int64')\n",
    "smallDF['price'] = smallDF['price'].astype('Int64')\n",
    "smallDF"
   ]
  },
  {
   "cell_type": "code",
   "execution_count": null,
   "id": "41fa04e4-86ee-4f29-b794-ec7fc61090ec",
   "metadata": {},
   "outputs": [],
   "source": []
  },
  {
   "cell_type": "code",
   "execution_count": null,
   "id": "09d08131-810f-437d-814b-02173ea965e7",
   "metadata": {},
   "outputs": [],
   "source": []
  }
 ],
 "metadata": {
  "kernelspec": {
   "display_name": "Python 3 (ipykernel)",
   "language": "python",
   "name": "python3"
  },
  "language_info": {
   "codemirror_mode": {
    "name": "ipython",
    "version": 3
   },
   "file_extension": ".py",
   "mimetype": "text/x-python",
   "name": "python",
   "nbconvert_exporter": "python",
   "pygments_lexer": "ipython3",
   "version": "3.10.12"
  }
 },
 "nbformat": 4,
 "nbformat_minor": 5
}
