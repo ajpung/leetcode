{
 "cells": [
  {
   "cell_type": "code",
   "execution_count": 3,
   "id": "8dc3fc84-661a-4a18-83d0-18d0e98ef803",
   "metadata": {},
   "outputs": [],
   "source": [
    "import pandas as pd\n",
    "from datetime import datetime\n",
    "from datetime import timedelta\n",
    "\n",
    "data = {\n",
    "    \"user_id\": [1, 1, 1, 2, 2, 2, 3, 3, 3, 4, 4],\n",
    "    \"session_id\": [1, 1, 1, 4, 4, 4, 2, 2, 2, 3, 3],\n",
    "    \"activity_date\": [\n",
    "        datetime(2019, 7, 20),\n",
    "        datetime(2019, 7, 20),\n",
    "        datetime(2019, 7, 20),\n",
    "        datetime(2019, 7, 20),\n",
    "        datetime(2019, 7, 21),\n",
    "        datetime(2019, 7, 21),\n",
    "        datetime(2019, 7, 21),\n",
    "        datetime(2019, 7, 21),\n",
    "        datetime(2019, 7, 21),\n",
    "        datetime(2019, 6, 25),\n",
    "        datetime(2019, 6, 25),\n",
    "    ],\n",
    "    \"activity_type\": [\n",
    "        \"open_session\",\n",
    "        \"scroll_down\",\n",
    "        \"end_session\",\n",
    "        \"open_session\",\n",
    "        \"send_message\",\n",
    "        \"end_session\",\n",
    "        \"open_session\",\n",
    "        \"send_message\",\n",
    "        \"end_session\",\n",
    "        \"open_session\",\n",
    "        \"end_session\",\n",
    "    ],\n",
    "}\n",
    "\n",
    "activity = pd.DataFrame(data)"
   ]
  },
  {
   "cell_type": "code",
   "execution_count": 24,
   "id": "e550fd7c-8086-4a79-b227-bf74486c9b38",
   "metadata": {},
   "outputs": [
    {
     "data": {
      "text/html": [
       "<div>\n",
       "<style scoped>\n",
       "    .dataframe tbody tr th:only-of-type {\n",
       "        vertical-align: middle;\n",
       "    }\n",
       "\n",
       "    .dataframe tbody tr th {\n",
       "        vertical-align: top;\n",
       "    }\n",
       "\n",
       "    .dataframe thead th {\n",
       "        text-align: right;\n",
       "    }\n",
       "</style>\n",
       "<table border=\"1\" class=\"dataframe\">\n",
       "  <thead>\n",
       "    <tr style=\"text-align: right;\">\n",
       "      <th></th>\n",
       "      <th>day</th>\n",
       "      <th>active_users</th>\n",
       "    </tr>\n",
       "  </thead>\n",
       "  <tbody>\n",
       "    <tr>\n",
       "      <th>0</th>\n",
       "      <td>2019-07-20</td>\n",
       "      <td>2</td>\n",
       "    </tr>\n",
       "    <tr>\n",
       "      <th>1</th>\n",
       "      <td>2019-07-21</td>\n",
       "      <td>2</td>\n",
       "    </tr>\n",
       "  </tbody>\n",
       "</table>\n",
       "</div>"
      ],
      "text/plain": [
       "         day  active_users\n",
       "0 2019-07-20             2\n",
       "1 2019-07-21             2"
      ]
     },
     "execution_count": 24,
     "metadata": {},
     "output_type": "execute_result"
    }
   ],
   "source": [
    "# Apply time window\n",
    "t0, t1 = datetime(2019, 7, 27) - pd.Timedelta(\"30d\"), datetime(2019, 7, 27)\n",
    "activity = activity.loc[\n",
    "    (activity[\"activity_date\"] > t0) & (activity[\"activity_date\"] <= t1)\n",
    "]\n",
    "\n",
    "# Collect unique active users for each date\n",
    "activity.groupby(\"activity_date\").nunique(\"user_id\").reset_index().drop(\n",
    "    columns=[\"session_id\", \"activity_type\"]\n",
    ").rename(columns={\"user_id\": \"active_users\", \"activity_date\": \"day\"})"
   ]
  },
  {
   "cell_type": "code",
   "execution_count": null,
   "id": "2382c85a-93da-41cb-a3eb-72b108e96ea0",
   "metadata": {},
   "outputs": [],
   "source": []
  }
 ],
 "metadata": {
  "kernelspec": {
   "display_name": "Python 3 (ipykernel)",
   "language": "python",
   "name": "python3"
  },
  "language_info": {
   "codemirror_mode": {
    "name": "ipython",
    "version": 3
   },
   "file_extension": ".py",
   "mimetype": "text/x-python",
   "name": "python",
   "nbconvert_exporter": "python",
   "pygments_lexer": "ipython3",
   "version": "3.10.12"
  }
 },
 "nbformat": 4,
 "nbformat_minor": 5
}
