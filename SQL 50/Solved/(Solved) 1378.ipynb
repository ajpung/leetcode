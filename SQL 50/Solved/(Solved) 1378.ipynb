{
 "cells": [
  {
   "cell_type": "code",
   "execution_count": 13,
   "id": "77e3eaac-5338-4467-ba41-f1bba24ce392",
   "metadata": {},
   "outputs": [],
   "source": [
    "import pandas as pd\n",
    "\n",
    "emp_data = {'id':[1,7,11,90,3],\n",
    "            'name':['Alice','Bob','Meir','Winston','Jonathan']}\n",
    "uni_data = {'id':[3,11,90],\n",
    "            'unique_id':[1,2,3]}\n",
    "\n",
    "emp_data = {'id':[1,7,11,90,3],\n",
    "            'name':['Alice','Bob','Meir','Winston','Jonathan']}\n",
    "uni_data = {'id':[3,11,90,10],\n",
    "            'unique_id':[101,102,103,104]}\n",
    "\n",
    "employees = pd.DataFrame(emp_data)\n",
    "employee_uni = pd.DataFrame(uni_data)"
   ]
  },
  {
   "cell_type": "code",
   "execution_count": 19,
   "id": "f014ee2b-3720-4eaa-8374-8728ecf4fc08",
   "metadata": {},
   "outputs": [
    {
     "data": {
      "text/html": [
       "<div>\n",
       "<style scoped>\n",
       "    .dataframe tbody tr th:only-of-type {\n",
       "        vertical-align: middle;\n",
       "    }\n",
       "\n",
       "    .dataframe tbody tr th {\n",
       "        vertical-align: top;\n",
       "    }\n",
       "\n",
       "    .dataframe thead th {\n",
       "        text-align: right;\n",
       "    }\n",
       "</style>\n",
       "<table border=\"1\" class=\"dataframe\">\n",
       "  <thead>\n",
       "    <tr style=\"text-align: right;\">\n",
       "      <th></th>\n",
       "      <th>unique_id</th>\n",
       "      <th>name</th>\n",
       "    </tr>\n",
       "  </thead>\n",
       "  <tbody>\n",
       "    <tr>\n",
       "      <th>0</th>\n",
       "      <td>&lt;NA&gt;</td>\n",
       "      <td>Alice</td>\n",
       "    </tr>\n",
       "    <tr>\n",
       "      <th>1</th>\n",
       "      <td>101</td>\n",
       "      <td>Jonathan</td>\n",
       "    </tr>\n",
       "    <tr>\n",
       "      <th>2</th>\n",
       "      <td>&lt;NA&gt;</td>\n",
       "      <td>Bob</td>\n",
       "    </tr>\n",
       "    <tr>\n",
       "      <th>4</th>\n",
       "      <td>102</td>\n",
       "      <td>Meir</td>\n",
       "    </tr>\n",
       "    <tr>\n",
       "      <th>5</th>\n",
       "      <td>103</td>\n",
       "      <td>Winston</td>\n",
       "    </tr>\n",
       "  </tbody>\n",
       "</table>\n",
       "</div>"
      ],
      "text/plain": [
       "   unique_id      name\n",
       "0       <NA>     Alice\n",
       "1        101  Jonathan\n",
       "2       <NA>       Bob\n",
       "4        102      Meir\n",
       "5        103   Winston"
      ]
     },
     "execution_count": 19,
     "metadata": {},
     "output_type": "execute_result"
    }
   ],
   "source": [
    "all_df = pd.merge(employees,employee_uni,on='id',how='outer').dropna(subset=['name'])\n",
    "all_df = all_df.drop(columns=['id'])\n",
    "all_df['unique_id'] = all_df['unique_id'].astype('Int64')\n",
    "all_df = all_df[['unique_id','name']]\n",
    "all_df"
   ]
  },
  {
   "cell_type": "code",
   "execution_count": null,
   "id": "540f52b9-50ce-4f68-b1dc-8363bfef9017",
   "metadata": {},
   "outputs": [],
   "source": []
  }
 ],
 "metadata": {
  "kernelspec": {
   "display_name": "Python 3 (ipykernel)",
   "language": "python",
   "name": "python3"
  },
  "language_info": {
   "codemirror_mode": {
    "name": "ipython",
    "version": 3
   },
   "file_extension": ".py",
   "mimetype": "text/x-python",
   "name": "python",
   "nbconvert_exporter": "python",
   "pygments_lexer": "ipython3",
   "version": "3.10.12"
  }
 },
 "nbformat": 4,
 "nbformat_minor": 5
}
