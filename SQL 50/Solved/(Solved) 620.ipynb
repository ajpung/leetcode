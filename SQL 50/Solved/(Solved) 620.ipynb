{
 "cells": [
  {
   "cell_type": "code",
   "execution_count": 111,
   "id": "fd626cce-b724-4b0e-8aae-b6524d078b0c",
   "metadata": {},
   "outputs": [],
   "source": [
    "import numpy as np\n",
    "import pandas as pd\n",
    "\n",
    "data = {'id':[1,2,3,4,5],\n",
    "        'movie':['War','Science','irish','Ice song','House card'],\n",
    "        'description':['great 3d','fiction','boring','Fantasy','Interesting'],\n",
    "        'rating':[8.9,8.5,6.2,8.6,9.1]}\n",
    "\n",
    "data = {'id':[1,1,2,3,5],\n",
    "        'movie':['','Science','irish',np.nan,'House card'],\n",
    "        'description':['great 3d','fiction','boring','Fantasy','Interesting'],\n",
    "        'rating':[8.9,8.5,6.2,8.6,9.1]}\n",
    "\n",
    "cinema = pd.DataFrame(data)"
   ]
  },
  {
   "cell_type": "code",
   "execution_count": 112,
   "id": "416275f6-4611-45e8-b4a9-e7d2b4bf70c9",
   "metadata": {},
   "outputs": [
    {
     "data": {
      "text/html": [
       "<div>\n",
       "<style scoped>\n",
       "    .dataframe tbody tr th:only-of-type {\n",
       "        vertical-align: middle;\n",
       "    }\n",
       "\n",
       "    .dataframe tbody tr th {\n",
       "        vertical-align: top;\n",
       "    }\n",
       "\n",
       "    .dataframe thead th {\n",
       "        text-align: right;\n",
       "    }\n",
       "</style>\n",
       "<table border=\"1\" class=\"dataframe\">\n",
       "  <thead>\n",
       "    <tr style=\"text-align: right;\">\n",
       "      <th></th>\n",
       "      <th>id</th>\n",
       "      <th>movie</th>\n",
       "      <th>description</th>\n",
       "      <th>rating</th>\n",
       "    </tr>\n",
       "  </thead>\n",
       "  <tbody>\n",
       "    <tr>\n",
       "      <th>4</th>\n",
       "      <td>5</td>\n",
       "      <td>House card</td>\n",
       "      <td>Interesting</td>\n",
       "      <td>9.1</td>\n",
       "    </tr>\n",
       "    <tr>\n",
       "      <th>0</th>\n",
       "      <td>1</td>\n",
       "      <td>War</td>\n",
       "      <td>great 3d</td>\n",
       "      <td>8.9</td>\n",
       "    </tr>\n",
       "  </tbody>\n",
       "</table>\n",
       "</div>"
      ],
      "text/plain": [
       "  id       movie  description rating\n",
       "4  5  House card  Interesting    9.1\n",
       "0  1         War     great 3d    8.9"
      ]
     },
     "execution_count": 112,
     "metadata": {},
     "output_type": "execute_result"
    }
   ],
   "source": [
    "data = {'id':[], 'movie':[], 'description':[], 'rating':[]}\n",
    "rcin = pd.DataFrame(data)\n",
    "\n",
    "for i in range(len(cinema)):\n",
    "    row = pd.DataFrame(cinema.iloc[i]).transpose()\n",
    "    ridx = row['id'].values[0]\n",
    "    if ridx%2==1:\n",
    "        if len(rcin)==0:\n",
    "            rcin = row\n",
    "        else:\n",
    "            rcin = pd.concat([rcin,row])\n",
    "    \n",
    "rcin = rcin[rcin.description!=\"boring\"]\n",
    "rcin = rcin.sort_values(by='rating',ascending=False)\n",
    "rcin"
   ]
  }
 ],
 "metadata": {
  "kernelspec": {
   "display_name": "Python 3 (ipykernel)",
   "language": "python",
   "name": "python3"
  },
  "language_info": {
   "codemirror_mode": {
    "name": "ipython",
    "version": 3
   },
   "file_extension": ".py",
   "mimetype": "text/x-python",
   "name": "python",
   "nbconvert_exporter": "python",
   "pygments_lexer": "ipython3",
   "version": "3.10.12"
  }
 },
 "nbformat": 4,
 "nbformat_minor": 5
}
