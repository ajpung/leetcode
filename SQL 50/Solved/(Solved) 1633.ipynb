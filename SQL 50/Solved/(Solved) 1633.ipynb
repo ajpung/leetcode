{
 "cells": [
  {
   "cell_type": "code",
   "execution_count": 1,
   "id": "f5f924f0-a8cc-4074-90d7-15d1e52eb6a6",
   "metadata": {},
   "outputs": [],
   "source": [
    "import pandas as pd\n",
    "\n",
    "udata = {'user_id':[6,2,7],\n",
    "         'user_name':['Alice','Bob','Alex']}\n",
    "\n",
    "rdata = {'contest_id':[215,209,208,210,208,209,209,215,208,210,207,210],\n",
    "         'user_id':[6,2,2,6,6,7,6,7,7,2,2,7]}\n",
    "\n",
    "users = pd.DataFrame(udata)\n",
    "register = pd.DataFrame(rdata)"
   ]
  },
  {
   "cell_type": "code",
   "execution_count": 5,
   "id": "6470cf43-9946-4690-8c2a-3450fbb09eb1",
   "metadata": {},
   "outputs": [],
   "source": [
    "merged = pd.merge(users,register,how='outer',on='user_id').drop(columns='user_name')\n",
    "counted = merged.groupby('contest_id').agg({'user_id':'count'}).reset_index()\n",
    "counted['percentage'] = round((counted['user_id']/len(list(set(merged.user_id))))*100,2)\n",
    "counted = counted.drop(columns='user_id')\n",
    "counted = counted.sort_values(by=['contest_id'],ascending=True).sort_values(by=['percentage'],ascending=False)"
   ]
  },
  {
   "cell_type": "code",
   "execution_count": 6,
   "id": "9564d29d-69bf-4e09-87c7-992080a3ae7a",
   "metadata": {},
   "outputs": [
    {
     "data": {
      "text/html": [
       "<div>\n",
       "<style scoped>\n",
       "    .dataframe tbody tr th:only-of-type {\n",
       "        vertical-align: middle;\n",
       "    }\n",
       "\n",
       "    .dataframe tbody tr th {\n",
       "        vertical-align: top;\n",
       "    }\n",
       "\n",
       "    .dataframe thead th {\n",
       "        text-align: right;\n",
       "    }\n",
       "</style>\n",
       "<table border=\"1\" class=\"dataframe\">\n",
       "  <thead>\n",
       "    <tr style=\"text-align: right;\">\n",
       "      <th></th>\n",
       "      <th>contest_id</th>\n",
       "      <th>percentage</th>\n",
       "    </tr>\n",
       "  </thead>\n",
       "  <tbody>\n",
       "    <tr>\n",
       "      <th>1</th>\n",
       "      <td>208</td>\n",
       "      <td>100.00</td>\n",
       "    </tr>\n",
       "    <tr>\n",
       "      <th>2</th>\n",
       "      <td>209</td>\n",
       "      <td>100.00</td>\n",
       "    </tr>\n",
       "    <tr>\n",
       "      <th>3</th>\n",
       "      <td>210</td>\n",
       "      <td>100.00</td>\n",
       "    </tr>\n",
       "    <tr>\n",
       "      <th>4</th>\n",
       "      <td>215</td>\n",
       "      <td>66.67</td>\n",
       "    </tr>\n",
       "    <tr>\n",
       "      <th>0</th>\n",
       "      <td>207</td>\n",
       "      <td>33.33</td>\n",
       "    </tr>\n",
       "  </tbody>\n",
       "</table>\n",
       "</div>"
      ],
      "text/plain": [
       "   contest_id  percentage\n",
       "1         208      100.00\n",
       "2         209      100.00\n",
       "3         210      100.00\n",
       "4         215       66.67\n",
       "0         207       33.33"
      ]
     },
     "execution_count": 6,
     "metadata": {},
     "output_type": "execute_result"
    }
   ],
   "source": [
    "counted"
   ]
  }
 ],
 "metadata": {
  "kernelspec": {
   "display_name": "Python 3 (ipykernel)",
   "language": "python",
   "name": "python3"
  },
  "language_info": {
   "codemirror_mode": {
    "name": "ipython",
    "version": 3
   },
   "file_extension": ".py",
   "mimetype": "text/x-python",
   "name": "python",
   "nbconvert_exporter": "python",
   "pygments_lexer": "ipython3",
   "version": "3.10.12"
  }
 },
 "nbformat": 4,
 "nbformat_minor": 5
}
