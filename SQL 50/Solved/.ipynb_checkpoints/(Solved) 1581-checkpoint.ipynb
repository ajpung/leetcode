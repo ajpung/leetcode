{
 "cells": [
  {
   "cell_type": "code",
   "execution_count": 25,
   "id": "712b79c9-4145-4d91-bfa1-b495880f5540",
   "metadata": {},
   "outputs": [],
   "source": [
    "import numpy as np\n",
    "import pandas as pd\n",
    "\n",
    "vdata = {'visit_id':[1,2,4,5,6,7,8],\n",
    "         'customer_id':[23,9,30,54,96,54,54]}\n",
    "\n",
    "tdata = {'transaction_id':[2,3,9,12,13],\n",
    "         'visit_id':[5,5,5,1,2],\n",
    "         'amount':[310,300,200,910,970]\n",
    "        }\n",
    "\n",
    "vdata = {'visit_id':[1,2,4,5,6,7,8],\n",
    "         'customer_id':[23,9,30,54,96,54,54]}\n",
    "\n",
    "tdata = {'transaction_id':[2,3,9,12,13],\n",
    "         'visit_id':[5,5,5,1,2],\n",
    "         'amount':[np.nan,300,200,910,970]\n",
    "        }\n",
    "\n",
    "visits = pd.DataFrame(vdata)\n",
    "transactions = pd.DataFrame(tdata)"
   ]
  },
  {
   "cell_type": "code",
   "execution_count": 28,
   "id": "86c8d938-153b-4ffd-a30c-dfe8d5de5751",
   "metadata": {},
   "outputs": [
    {
     "data": {
      "text/html": [
       "<div>\n",
       "<style scoped>\n",
       "    .dataframe tbody tr th:only-of-type {\n",
       "        vertical-align: middle;\n",
       "    }\n",
       "\n",
       "    .dataframe tbody tr th {\n",
       "        vertical-align: top;\n",
       "    }\n",
       "\n",
       "    .dataframe thead th {\n",
       "        text-align: right;\n",
       "    }\n",
       "</style>\n",
       "<table border=\"1\" class=\"dataframe\">\n",
       "  <thead>\n",
       "    <tr style=\"text-align: right;\">\n",
       "      <th></th>\n",
       "      <th>customer_id</th>\n",
       "      <th>count_no_trans</th>\n",
       "    </tr>\n",
       "  </thead>\n",
       "  <tbody>\n",
       "    <tr>\n",
       "      <th>0</th>\n",
       "      <td>30</td>\n",
       "      <td>1</td>\n",
       "    </tr>\n",
       "    <tr>\n",
       "      <th>1</th>\n",
       "      <td>96</td>\n",
       "      <td>1</td>\n",
       "    </tr>\n",
       "    <tr>\n",
       "      <th>2</th>\n",
       "      <td>54</td>\n",
       "      <td>2</td>\n",
       "    </tr>\n",
       "  </tbody>\n",
       "</table>\n",
       "</div>"
      ],
      "text/plain": [
       "   customer_id  count_no_trans\n",
       "0           30               1\n",
       "1           96               1\n",
       "2           54               2"
      ]
     },
     "execution_count": 28,
     "metadata": {},
     "output_type": "execute_result"
    }
   ],
   "source": [
    "visits,transactions = [x.dropna() for x in [visits,transactions]]\n",
    "\n",
    "mergeDF = pd.merge(visits,transactions,on='visit_id',how='outer')\n",
    "nocntDF = mergeDF[mergeDF['amount'].isnull()]\n",
    "\n",
    "counts = {}\n",
    "for value in nocntDF['customer_id']:\n",
    "    counts[value] = counts.get(value, 0) + 1\n",
    "\n",
    "fdata = {'customer_id':counts.keys(),\n",
    "         'count_no_trans':counts.values()}\n",
    "\n",
    "pd.DataFrame(fdata)"
   ]
  },
  {
   "cell_type": "code",
   "execution_count": null,
   "id": "db0475dd-86ec-4382-b29c-fabaa83bf398",
   "metadata": {},
   "outputs": [],
   "source": []
  }
 ],
 "metadata": {
  "kernelspec": {
   "display_name": "Python 3 (ipykernel)",
   "language": "python",
   "name": "python3"
  },
  "language_info": {
   "codemirror_mode": {
    "name": "ipython",
    "version": 3
   },
   "file_extension": ".py",
   "mimetype": "text/x-python",
   "name": "python",
   "nbconvert_exporter": "python",
   "pygments_lexer": "ipython3",
   "version": "3.10.12"
  }
 },
 "nbformat": 4,
 "nbformat_minor": 5
}
