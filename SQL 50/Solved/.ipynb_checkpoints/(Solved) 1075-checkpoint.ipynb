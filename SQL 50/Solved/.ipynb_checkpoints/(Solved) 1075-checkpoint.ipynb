{
 "cells": [
  {
   "cell_type": "code",
   "execution_count": 39,
   "id": "2d4aa184-851c-4c50-9c07-ecc1da246b22",
   "metadata": {},
   "outputs": [],
   "source": [
    "import numpy as np\n",
    "import pandas as pd\n",
    "\n",
    "pdata = {'project_id':[1,1,1,2,2,1,2],\n",
    "         'employee_id':[1,2,3,1,4,5,5]}\n",
    "\n",
    "edata = {'employee_id':[1,2,3,4,5,5],\n",
    "         'name':['Khaled','Ali','John','Doe','Khaled',np.nan],\n",
    "         'experience_years':[3,2,1,2,0,0]}\n",
    "\n",
    "project = pd.DataFrame(pdata)\n",
    "employee = pd.DataFrame(edata)"
   ]
  },
  {
   "cell_type": "code",
   "execution_count": 42,
   "id": "e5a0ecd2-54c3-48c2-9c5e-3f357c625fb1",
   "metadata": {},
   "outputs": [
    {
     "name": "stdout",
     "output_type": "stream",
     "text": [
      "   project_id  average_years\n",
      "0           1           1.20\n",
      "1           2           1.25\n"
     ]
    }
   ],
   "source": [
    "merged = pd.merge(project,employee,on='employee_id',how='outer')\n",
    "counted = merged.groupby('project_id').agg({'experience_years':'sum','employee_id':'count'}).reset_index()\n",
    "counted['average_years'] = round(counted['experience_years']/counted['employee_id'],2)\n",
    "counted = counted.drop(columns=['experience_years','employee_id'])\n",
    "print(counted)"
   ]
  },
  {
   "cell_type": "code",
   "execution_count": null,
   "id": "5b313c36-c20b-41a2-bd76-594911923bc4",
   "metadata": {},
   "outputs": [],
   "source": []
  }
 ],
 "metadata": {
  "kernelspec": {
   "display_name": "Python 3 (ipykernel)",
   "language": "python",
   "name": "python3"
  },
  "language_info": {
   "codemirror_mode": {
    "name": "ipython",
    "version": 3
   },
   "file_extension": ".py",
   "mimetype": "text/x-python",
   "name": "python",
   "nbconvert_exporter": "python",
   "pygments_lexer": "ipython3",
   "version": "3.10.12"
  }
 },
 "nbformat": 4,
 "nbformat_minor": 5
}
