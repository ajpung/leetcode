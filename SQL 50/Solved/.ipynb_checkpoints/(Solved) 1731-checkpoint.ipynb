{
 "cells": [
  {
   "cell_type": "code",
   "execution_count": 1,
   "id": "d79a714e-3208-488b-9f86-7eefb2c4e473",
   "metadata": {},
   "outputs": [],
   "source": [
    "import numpy as np\n",
    "import pandas as pd"
   ]
  },
  {
   "cell_type": "code",
   "execution_count": 2,
   "id": "701e8bfc-6c1d-428f-9b90-1792605a8f09",
   "metadata": {},
   "outputs": [],
   "source": [
    "data = {'employee_id':[9,6,4,2],\n",
    "        'name':['Hercy','Alice','Bob','Winston'],\n",
    "        'reports_to':[np.nan, 9,9,np.nan],\n",
    "        'age':[43,41,36,37]}\n",
    "\n",
    "data = {'employee_id':[1,2,3,4,5,6,7,8],\n",
    "        'name':['Michael','Alice','Bob','Charlie','David','Eve','Frank','Grace'],\n",
    "        'reports_to':[np.nan,1,1,2,2,3,np.nan,np.nan],\n",
    "        'age':[45,38,42,34,40,37,50,48]}\n",
    "\n",
    "employees = pd.DataFrame(data)"
   ]
  },
  {
   "cell_type": "code",
   "execution_count": 3,
   "id": "de74b05e-1719-41a5-8682-dfadd0bd3bfc",
   "metadata": {},
   "outputs": [
    {
     "name": "stdout",
     "output_type": "stream",
     "text": [
      "   employee_id     name  reports_count  average_age\n",
      "0            1  Michael              2           40\n",
      "1            2    Alice              2           37\n",
      "2            3      Bob              1           37\n"
     ]
    }
   ],
   "source": [
    "managers = []\n",
    "avg_age = []\n",
    "employee_id = []\n",
    "reports_count = []\n",
    "\n",
    "for i in list(set(employees['employee_id'])):\n",
    "    cdf = employees[employees['reports_to']==i]\n",
    "    if len(cdf)>=1:\n",
    "        avg_age += [int(np.ceil(np.mean(cdf['age']))+1e-10)]\n",
    "        managers += list(set(employees[employees['employee_id']==i]['name']))\n",
    "        employee_id += [i]\n",
    "        reports_count += [len(cdf)]\n",
    "\n",
    "results = pd.DataFrame({'employee_id':employee_id,\n",
    "                        'name':managers,\n",
    "                        'reports_count':reports_count,\n",
    "                        'average_age':avg_age}).sort_values('employee_id')\n",
    "print(results)"
   ]
  },
  {
   "cell_type": "code",
   "execution_count": null,
   "id": "900d9e36-161a-4608-9465-2b469dc5e109",
   "metadata": {},
   "outputs": [],
   "source": []
  }
 ],
 "metadata": {
  "kernelspec": {
   "display_name": "Python 3 (ipykernel)",
   "language": "python",
   "name": "python3"
  },
  "language_info": {
   "codemirror_mode": {
    "name": "ipython",
    "version": 3
   },
   "file_extension": ".py",
   "mimetype": "text/x-python",
   "name": "python",
   "nbconvert_exporter": "python",
   "pygments_lexer": "ipython3",
   "version": "3.10.12"
  }
 },
 "nbformat": 4,
 "nbformat_minor": 5
}
