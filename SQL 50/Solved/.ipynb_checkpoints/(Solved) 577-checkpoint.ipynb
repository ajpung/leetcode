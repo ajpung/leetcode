{
 "cells": [
  {
   "cell_type": "code",
   "execution_count": 20,
   "id": "7f01e8b4-64a9-4562-b6f1-cf780f37a5fc",
   "metadata": {},
   "outputs": [],
   "source": [
    "import numpy as np\n",
    "import pandas as pd\n",
    "\n",
    "edata = {'empId':[3,1,2,4],\n",
    "        'name':['Brad','John','Dan','Thomas'],\n",
    "        'supervisor':[np.nan,3,3,3],\n",
    "        'salary':[4000,1000,2000,4000]}\n",
    "bdata = {'empId':[2,4],\n",
    "         'bonus':[500,2000]}\n",
    "\n",
    "edata = {'empId':[3,1,2,4],\n",
    "        'name':['Brad','John','Dan','Thomas'],\n",
    "        'supervisor':[np.nan,3,3,3],\n",
    "        'salary':[4000,1000,2000,4000]}\n",
    "bdata = {'empId':[2,1,4],\n",
    "         'bonus':[1000,np.nan,2000]}\n",
    "\n",
    "employee = pd.DataFrame(edata)\n",
    "bonus = pd.DataFrame(bdata)"
   ]
  },
  {
   "cell_type": "code",
   "execution_count": 21,
   "id": "97213d0f-8a20-4cab-81e2-13eadc5e9aa7",
   "metadata": {},
   "outputs": [
    {
     "name": "stdout",
     "output_type": "stream",
     "text": [
      "   empId    name  supervisor  salary   bonus\n",
      "0      1    John         3.0    1000     NaN\n",
      "1      2     Dan         3.0    2000  1000.0\n",
      "2      3    Brad         NaN    4000     NaN\n",
      "3      4  Thomas         3.0    4000  2000.0\n"
     ]
    },
    {
     "data": {
      "text/html": [
       "<div>\n",
       "<style scoped>\n",
       "    .dataframe tbody tr th:only-of-type {\n",
       "        vertical-align: middle;\n",
       "    }\n",
       "\n",
       "    .dataframe tbody tr th {\n",
       "        vertical-align: top;\n",
       "    }\n",
       "\n",
       "    .dataframe thead th {\n",
       "        text-align: right;\n",
       "    }\n",
       "</style>\n",
       "<table border=\"1\" class=\"dataframe\">\n",
       "  <thead>\n",
       "    <tr style=\"text-align: right;\">\n",
       "      <th></th>\n",
       "      <th>name</th>\n",
       "      <th>bonus</th>\n",
       "    </tr>\n",
       "  </thead>\n",
       "  <tbody>\n",
       "    <tr>\n",
       "      <th>0</th>\n",
       "      <td>John</td>\n",
       "      <td>NaN</td>\n",
       "    </tr>\n",
       "    <tr>\n",
       "      <th>2</th>\n",
       "      <td>Brad</td>\n",
       "      <td>NaN</td>\n",
       "    </tr>\n",
       "  </tbody>\n",
       "</table>\n",
       "</div>"
      ],
      "text/plain": [
       "   name  bonus\n",
       "0  John    NaN\n",
       "2  Brad    NaN"
      ]
     },
     "execution_count": 21,
     "metadata": {},
     "output_type": "execute_result"
    }
   ],
   "source": [
    "mergeDF = pd.merge(employee,bonus,on='empId',how='outer')\n",
    "lesstho = mergeDF[(mergeDF.bonus<1000)|(mergeDF.bonus.isnull())]\n",
    "cleaned = lesstho.drop(columns=['empId','supervisor','salary'])\n",
    "cleaned"
   ]
  },
  {
   "cell_type": "code",
   "execution_count": null,
   "id": "cf0bcd74-2489-47e1-9558-ee4f09b76ced",
   "metadata": {},
   "outputs": [],
   "source": []
  }
 ],
 "metadata": {
  "kernelspec": {
   "display_name": "Python 3 (ipykernel)",
   "language": "python",
   "name": "python3"
  },
  "language_info": {
   "codemirror_mode": {
    "name": "ipython",
    "version": 3
   },
   "file_extension": ".py",
   "mimetype": "text/x-python",
   "name": "python",
   "nbconvert_exporter": "python",
   "pygments_lexer": "ipython3",
   "version": "3.10.12"
  }
 },
 "nbformat": 4,
 "nbformat_minor": 5
}
