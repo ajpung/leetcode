{
 "cells": [
  {
   "cell_type": "code",
   "execution_count": 59,
   "id": "f9f9ac5a-6200-4b96-adbd-0aeecd2eac9f",
   "metadata": {},
   "outputs": [],
   "source": [
    "import pandas as pd\n",
    "\n",
    "data = {'machine_id':[0,0,0,0,1,1,1,1,2,2,2,2],\n",
    "        'process_id':[0,0,1,1,0,0,1,1,0,0,1,1],\n",
    "        'activity_type':['start','end','start','end','start','end','start','end','start','end','start','end'],\n",
    "        'timestamp':[0.712,1.52,3.14,4.12,0.55,1.55,0.43,1.42,4.10,4.512,2.5,5.0]}\n",
    "\n",
    "data = {'machine_id':[0,1,0,0,1,1,0,1],\n",
    "        'process_id':[1,0,0,1,0,1,0,1],\n",
    "        'activity_type':['start','end','start','end','start','start','end','end'],\n",
    "        'timestamp':[18.891,81.874,37.019,38.098,25.135,23.355,40.222,90.302]}\n",
    "\n",
    "data = {'machine_id':[4,0,2,4,0,1,1,3,3,2,5,5],\n",
    "        'process_id':[0,0,0,0,0,0,0,0,0,0,0,0],\n",
    "        'activity_type':['end','start','start','start','end','end','start','end','start','end','start','end'],\n",
    "        'timestamp':[98.227,89.478,4.06,35.617,93.686,97.821,73.793,85.537,35.138,48.225,22.284,53.926]}\n",
    "\n",
    "data = {'machine_id':[0,0,0,0,0,0,0,0,0,0,0,0,0,0],\n",
    "        'process_id':[1,5,1,2,0,4,3,4,5,0,6,6,2,3],\n",
    "        'activity_type':['end','end','start','end','start','end','end','start','start','end','start','end','start','start'],\n",
    "        'timestamp':[68.229,98.027,39.154,89.098,40.833,13.484,42.616,10.405,53.392,55.906,55.876,59.742,38.845,14.59]}\n",
    "\n",
    "activity = pd.DataFrame(data)"
   ]
  },
  {
   "cell_type": "code",
   "execution_count": 60,
   "id": "c2128c12-7d9f-439a-9b04-0d62fff2c57c",
   "metadata": {},
   "outputs": [
    {
     "name": "stdout",
     "output_type": "stream",
     "text": [
      "    machine_id  process_id activity_type  timestamp\n",
      "0            0           0         start     40.833\n",
      "1            0           0           end     55.906\n",
      "2            0           1         start     39.154\n",
      "3            0           1           end     68.229\n",
      "4            0           2         start     38.845\n",
      "5            0           2           end     89.098\n",
      "6            0           3         start     14.590\n",
      "7            0           3           end     42.616\n",
      "8            0           4         start     10.405\n",
      "9            0           4           end     13.484\n",
      "10           0           5         start     53.392\n",
      "11           0           5           end     98.027\n",
      "12           0           6         start     55.876\n",
      "13           0           6           end     59.742\n",
      "24.858142857142855 24.858\n"
     ]
    }
   ],
   "source": [
    "activity = activity.sort_values(by=['machine_id','process_id','timestamp'],ascending=True,ignore_index=True)\n",
    "out_m = []\n",
    "out_a = []\n",
    "for m in set(list(activity['machine_id'])):\n",
    "    cur_df = activity[activity.machine_id==m]\n",
    "    num_lines = len(cur_df)\n",
    "    ca = 0\n",
    "    num_machines = int(num_lines/2)\n",
    "    for i in range(num_machines):\n",
    "        cs = cur_df.iloc[i*2]['timestamp']\n",
    "        ce = cur_df.iloc[i*2+1]['timestamp']\n",
    "        ca += (ce-cs)/num_machines\n",
    "    out_m += [m]\n",
    "    out_a += [round(ca,3)]\n",
    "    \n",
    "out_data = {'machine_id':out_m,\n",
    "            'processing_time':out_a}\n",
    "out_df = pd.DataFrame(out_data)"
   ]
  },
  {
   "cell_type": "code",
   "execution_count": 61,
   "id": "dd927c12-b05b-4b3a-bb4b-cb37740a6fa5",
   "metadata": {},
   "outputs": [
    {
     "data": {
      "text/html": [
       "<div>\n",
       "<style scoped>\n",
       "    .dataframe tbody tr th:only-of-type {\n",
       "        vertical-align: middle;\n",
       "    }\n",
       "\n",
       "    .dataframe tbody tr th {\n",
       "        vertical-align: top;\n",
       "    }\n",
       "\n",
       "    .dataframe thead th {\n",
       "        text-align: right;\n",
       "    }\n",
       "</style>\n",
       "<table border=\"1\" class=\"dataframe\">\n",
       "  <thead>\n",
       "    <tr style=\"text-align: right;\">\n",
       "      <th></th>\n",
       "      <th>machine_id</th>\n",
       "      <th>processing_time</th>\n",
       "    </tr>\n",
       "  </thead>\n",
       "  <tbody>\n",
       "    <tr>\n",
       "      <th>0</th>\n",
       "      <td>0</td>\n",
       "      <td>24.858</td>\n",
       "    </tr>\n",
       "  </tbody>\n",
       "</table>\n",
       "</div>"
      ],
      "text/plain": [
       "   machine_id  processing_time\n",
       "0           0           24.858"
      ]
     },
     "execution_count": 61,
     "metadata": {},
     "output_type": "execute_result"
    }
   ],
   "source": [
    "out_df"
   ]
  },
  {
   "cell_type": "code",
   "execution_count": null,
   "id": "7215a52f-12ea-4e94-a004-08295ef79880",
   "metadata": {},
   "outputs": [],
   "source": []
  }
 ],
 "metadata": {
  "kernelspec": {
   "display_name": "Python 3 (ipykernel)",
   "language": "python",
   "name": "python3"
  },
  "language_info": {
   "codemirror_mode": {
    "name": "ipython",
    "version": 3
   },
   "file_extension": ".py",
   "mimetype": "text/x-python",
   "name": "python",
   "nbconvert_exporter": "python",
   "pygments_lexer": "ipython3",
   "version": "3.10.12"
  }
 },
 "nbformat": 4,
 "nbformat_minor": 5
}
