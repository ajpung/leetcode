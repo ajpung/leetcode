{
 "cells": [
  {
   "cell_type": "code",
   "execution_count": 1,
   "id": "16318e95-0287-417a-8fb9-3dc555dcc771",
   "metadata": {},
   "outputs": [],
   "source": [
    "import pandas as pd\n",
    "from datetime import datetime\n",
    "\n",
    "pdata = {'product_id':[1,1,2,2,3],\n",
    "        'start_date':[datetime(2019,2,17),datetime(2019,3,1),datetime(2019,2,1),datetime(2019,2,21),datetime(2019,2,21)],\n",
    "        'end_date':[datetime(2019,2,28),datetime(2019,3,22),datetime(2019,2,20),datetime(2019,3,31),datetime(2019,3,31)],\n",
    "        'price':[5,20,15,30,30]}\n",
    "\n",
    "sdata = {'product_id':[1,1,2,2],\n",
    "         'purchase_date':[datetime(2019,2,25),datetime(2019,3,1),datetime(2019,2,10),datetime(2019,3,22)],\n",
    "         'units':[100,15,200,30]}\n",
    "\n",
    "prices = pd.DataFrame(pdata)\n",
    "units_sold = pd.DataFrame(sdata)"
   ]
  },
  {
   "cell_type": "code",
   "execution_count": 3,
   "id": "7fa494db-9087-4a53-a4c7-ecea8387bdf2",
   "metadata": {},
   "outputs": [
    {
     "name": "stdout",
     "output_type": "stream",
     "text": [
      "   product_id  average_price\n",
      "0           1           6.96\n",
      "1           2          16.96\n",
      "2           3           0.00\n"
     ]
    }
   ],
   "source": [
    "import numpy as np\n",
    "\n",
    "merged_df = pd.merge(prices,units_sold,how='outer',on='product_id')\n",
    "merged_df.purchase_date = np.where(merged_df.purchase_date.notnull(),\n",
    "                                   merged_df.purchase_date.dt.strftime('%Y-%m-%d'),\n",
    "                                   merged_df.start_date.dt.strftime('%Y-%m-%d'))\n",
    "merged_df['units'] = merged_df['units'].fillna(0)\n",
    "filter_df = merged_df[(merged_df.purchase_date >= merged_df.start_date) & (merged_df.purchase_date <= merged_df.end_date)].reset_index()\n",
    "filter_df = filter_df.drop(columns=['start_date','end_date','purchase_date']).reset_index()\n",
    "filter_df['total'] = filter_df.price*filter_df.units\n",
    "filter_df = filter_df.groupby('product_id').agg('sum').reset_index()\n",
    "filter_df['average_price'] = (filter_df.total/filter_df.units).round(2)\n",
    "filter_df = filter_df[['product_id','average_price']]\n",
    "filter_df = filter_df.fillna(0)\n",
    "filter_df['average_price'] = filter_df['average_price'].fillna(0)\n",
    "print(filter_df)"
   ]
  },
  {
   "cell_type": "code",
   "execution_count": null,
   "id": "a126dfa7-f873-4483-862e-9e60d747aa28",
   "metadata": {},
   "outputs": [],
   "source": []
  }
 ],
 "metadata": {
  "kernelspec": {
   "display_name": "Python 3 (ipykernel)",
   "language": "python",
   "name": "python3"
  },
  "language_info": {
   "codemirror_mode": {
    "name": "ipython",
    "version": 3
   },
   "file_extension": ".py",
   "mimetype": "text/x-python",
   "name": "python",
   "nbconvert_exporter": "python",
   "pygments_lexer": "ipython3",
   "version": "3.10.12"
  }
 },
 "nbformat": 4,
 "nbformat_minor": 5
}
